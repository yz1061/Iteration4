{
 "cells": [
  {
   "cell_type": "markdown",
   "id": "4e396865",
   "metadata": {},
   "source": [
    "# Iteration4"
   ]
  },
  {
   "cell_type": "code",
   "execution_count": null,
   "id": "de177fb8",
   "metadata": {},
   "outputs": [],
   "source": [
    "import findspark\n",
    "findspark.init('/home/ubuntu/spark-3.2.1-bin-hadoop2.7')\n",
    "import pyspark\n",
    "from pyspark.sql import SparkSession\n",
    "from pyspark.sql.types import StructType, StructField, StringType, FloatType\n",
    "from pyspark.sql.functions import col,stddev, variance\n",
    "spark = SparkSession.builder.appName('basics').getOrCreate()"
   ]
  },
  {
   "cell_type": "markdown",
   "id": "bcaac24d",
   "metadata": {},
   "source": [
    "# 2.2 Data description"
   ]
  },
  {
   "cell_type": "code",
   "execution_count": 2,
   "id": "59b33c0f",
   "metadata": {
    "scrolled": true
   },
   "outputs": [
    {
     "name": "stderr",
     "output_type": "stream",
     "text": [
      "24/05/23 09:30:27 WARN package: Truncated the string representation of a plan since it was too large. This behavior can be adjusted by setting 'spark.sql.debug.maxToStringFields'.\n",
      "                                                                                \r"
     ]
    },
    {
     "name": "stdout",
     "output_type": "stream",
     "text": [
      "+-------------+----+--------------------+----+----+----+----+----+----+----+----+----+----+----+----+----+----+----+----+----+----+----+----+----+----+----+----+----+----+----+----+----+----+----+----+----+----+----+----+----+----+----+----+----+----+----+\n",
      "|unicef_region|iso3|             Country|2022|2021|2020|2019|2018|2017|2016|2015|2014|2013|2012|2011|2010|2009|2008|2007|2006|2005|2004|2003|2002|2001|2000|1999|1998|1997|1996|1995|1994|1993|1992|1991|1990|1989|1988|1987|1986|1985|1984|1983|1982|1981|1980|\n",
      "+-------------+----+--------------------+----+----+----+----+----+----+----+----+----+----+----+----+----+----+----+----+----+----+----+----+----+----+----+----+----+----+----+----+----+----+----+----+----+----+----+----+----+----+----+----+----+----+----+\n",
      "|         ROSA| AFG|         Afghanistan|88.0|84.0|87.0|86.0|89.0|84.0|78.0|76.0|74.0|72.0|78.0|71.0|68.0|64.0|66.0|60.0|60.0|57.0|51.0|44.0|46.0|43.0|30.0|38.0|35.0|43.0|47.0|31.0|15.0|17.0|19.0|21.0|30.0|38.0|40.0|27.0|18.0|17.0|11.0|10.0|10.0|null|null|\n",
      "|         ECAR| ALB|             Albania|99.0|99.0|98.0|99.0|99.0|99.0|99.0|99.0|99.0|99.0|96.0|97.0|99.0|97.0|99.0|98.0|97.0|98.0|97.0|95.0|94.0|93.0|93.0|93.0|87.0|94.0|94.0|97.0|87.0|82.0|81.0|80.0|94.0|94.0|92.0|92.0|92.0|92.0|90.0|90.0|92.0|93.0|93.0|\n",
      "|         MENA| DZA|             Algeria|98.0|98.0|99.0|99.0|99.0|99.0|99.0|99.0|99.0|99.0|99.0|99.0|99.0|99.0|99.0|99.0|99.0|98.0|98.0|98.0|98.0|97.0|97.0|97.0|95.0|94.0|94.0|93.0|93.0|95.0|97.0|98.0|99.0|96.0|96.0|93.0|88.0|86.0|null|null|null|null|null|\n",
      "|         ESAR| AGO|              Angola|60.0|56.0|58.0|69.0|72.0|69.0|40.0|64.0|72.0|71.0|73.0|74.0|79.0|70.0|73.0|75.0|54.0|51.0|63.0|54.0|76.0|70.0|53.0|49.0|60.0|70.0|65.0|60.0|48.0|53.0|47.0|53.0|48.0|47.0|32.0|29.0|32.0|28.0|28.0|25.0|null|null|null|\n",
      "|         LACR| ARG|           Argentina|79.0|80.0|75.0|85.0|93.0|95.0|92.0|96.0|99.0|99.0|99.0|99.0|99.0|99.0|99.0|99.0|99.0|99.0|99.0|99.0|95.0|92.0|95.0|96.0|98.0|99.0|99.0|99.0|99.0|99.0|99.0|99.0|99.0|92.0|91.0|94.0|99.0|90.0|78.0|70.0|77.0|70.0|62.0|\n",
      "|         ECAR| ARM|             Armenia|98.0|98.0|99.0|99.0|99.0|99.0|99.0|99.0|99.0|99.0|96.0|96.0|95.0|99.0|98.0|94.0|91.0|94.0|96.0|92.0|97.0|96.0|97.0|93.0|95.0|72.0|82.0|84.0|83.0|84.0|88.0|null|null|null|null|null|null|null|null|null|null|null|null|\n",
      "|Non-programme| AUT|             Austria|null|null|null|null|null|null|null|null|null|null|null|null|null|null|null|null|null|null|null|null|null|null|null|null|null|null|null|null|null|null|null|null|null|90.0|90.0|90.0|90.0|90.0|90.0|90.0|90.0|90.0|90.0|\n",
      "|         ECAR| AZE|          Azerbaijan|96.0|95.0|94.0|96.0|97.0|97.0|98.0|98.0|98.0|98.0|98.0|99.0|98.0|95.0|92.0|88.0|86.0|82.0|82.0|83.0|82.0|83.0|81.0|82.0|79.0|77.0|76.0|76.0|77.0|74.0|69.0|null|null|null|null|null|null|null|null|null|null|null|null|\n",
      "|         ROSA| BGD|          Bangladesh|99.0|99.0|99.0|99.0|99.0|99.0|99.0|99.0|99.0|99.0|98.0|99.0|98.0|99.0|99.0|98.0|97.0|97.0|96.0|93.0|95.0|95.0|94.0|92.0|91.0|92.0|90.0|93.0|95.0|93.0|89.0|87.0|86.0|56.0|26.0|15.0| 4.0| 2.0| 2.0| 2.0| 1.0| 1.0|null|\n",
      "|         ECAR| BLR|             Belarus|98.0|98.0|97.0|97.0|98.0|98.0|98.0|97.0|98.0|99.0|98.0|99.0|99.0|98.0|98.0|98.0|99.0|99.0|99.0|99.0|99.0|99.0|99.0|99.0|99.0|98.0|97.0|96.0|94.0|93.0|95.0|null|null|null|null|null|null|null|null|null|null|null|null|\n",
      "|         LACR| BLZ|              Belize|92.0|84.0|76.0|95.0|99.0|90.0|94.0|98.0|98.0|99.0|98.0|98.0|98.0|99.0|98.0|99.0|97.0|96.0|99.0|99.0|96.0|98.0|96.0|96.0|93.0|85.0|90.0|92.0|90.0|91.0|97.0|94.0|93.0|91.0|85.0|77.0|94.0|81.0|77.0|81.0|85.0|71.0|71.0|\n",
      "|         WCAR| BEN|               Benin|88.0|88.0|88.0|88.0|88.0|88.0|88.0|96.0|96.0|95.0|96.0|88.0|90.0|93.0|96.0|97.0|93.0|88.0|89.0|90.0|90.0|91.0|92.0|87.0|83.0|78.0|80.0|85.0|94.0|89.0|84.0|82.0|92.0|75.0|50.0|46.0|41.0|27.0|null|null|null|null|null|\n",
      "|         ROSA| BTN|              Bhutan|99.0|99.0|98.0|92.0|99.0|99.0|99.0|99.0|99.0|97.0|95.0|95.0|96.0|94.0|99.0|94.0|92.0|92.0|92.0|93.0|83.0|81.0|97.0|90.0|94.0|92.0|98.0|98.0|96.0|89.0|90.0|95.0|99.0|93.0|73.0|67.0|60.0|54.0|47.0|46.0|45.0|44.0|43.0|\n",
      "|         LACR| BOL|Bolivia (Plurinat...|76.0|78.0|82.0|80.0|90.0|93.0|96.0|99.0|94.0|94.0|99.0|99.0|98.0|93.0|90.0|87.0|87.0|88.0|86.0|96.0|93.0|90.0|92.0|95.0|85.0|88.0|98.0|87.0|92.0|84.0|81.0|67.0|65.0|64.0|56.0|55.0|53.0|24.0|23.0|27.0|31.0|30.0|30.0|\n",
      "|         ECAR| BIH|Bosnia and Herzeg...|96.0|94.0|96.0|96.0|95.0|97.0|97.0|95.0|98.0|97.0|96.0|94.0|96.0|97.0|96.0|98.0|97.0|95.0|95.0|94.0|91.0|95.0|93.0|99.0|92.0|97.0|80.0|64.0|85.0|24.0|20.0|null|null|null|null|null|null|null|null|null|null|null|null|\n",
      "|         ESAR| BWA|            Botswana|98.0|98.0|98.0|98.0|98.0|98.0|98.0|98.0|98.0|98.0|98.0|98.0|98.0|99.0|99.0|99.0|99.0|99.0|99.0|99.0|99.0|99.0|99.0|99.0|99.0|98.0|97.0|96.0|96.0|95.0|94.0|93.0|93.0|92.0|95.0|95.0|99.0|97.0|95.0|94.0|94.0|93.0|92.0|\n",
      "|         LACR| BRA|              Brazil|88.0|69.0|73.0|85.0|98.0|94.0|96.0|99.0|99.0|99.0|99.0|99.0|99.0|99.0|99.0|99.0|99.0|99.0|99.0|99.0|99.0|99.0|99.0|99.0|99.0|99.0|99.0|99.0|93.0|95.0|90.0|87.0|79.0|74.0|74.0|68.0|65.0|63.0|75.0|66.0|64.0|62.0|56.0|\n",
      "|         EAPR| BRN|   Brunei Darussalam|99.0|99.0|99.0|99.0|99.0|99.0|99.0|99.0|99.0|99.0|99.0|96.0|95.0|99.0|99.0|96.0|99.0|94.0|99.0|95.0|95.0|99.0|99.0|98.0|96.0|99.0|99.0|99.0|99.0|99.0|97.0|94.0|91.0|88.0|85.0|84.0|85.0|95.0|90.0|99.0|99.0|99.0|99.0|\n",
      "|         ECAR| BGR|            Bulgaria|96.0|97.0|97.0|96.0|96.0|96.0|96.0|96.0|97.0|97.0|97.0|98.0|98.0|98.0|98.0|98.0|98.0|98.0|98.0|98.0|98.0|98.0|98.0|99.0|98.0|97.0|98.0|99.0|98.0|99.0|99.0|99.0|99.0|99.0|99.0|99.0|99.0|99.0|99.0|99.0|99.0|99.0|99.0|\n",
      "|         WCAR| BFA|        Burkina Faso|98.0|98.0|98.0|98.0|98.0|98.0|98.0|98.0|98.0|96.0|96.0|99.0|99.0|99.0|99.0|99.0|99.0|99.0|99.0|83.0|90.0|80.0|81.0|77.0|79.0|75.0|73.0|72.0|75.0|80.0|85.0|88.0|95.0|83.0|70.0|57.0|52.0|33.0|null|null|null|null|null|\n",
      "+-------------+----+--------------------+----+----+----+----+----+----+----+----+----+----+----+----+----+----+----+----+----+----+----+----+----+----+----+----+----+----+----+----+----+----+----+----+----+----+----+----+----+----+----+----+----+----+----+\n",
      "only showing top 20 rows\n",
      "\n"
     ]
    },
    {
     "name": "stderr",
     "output_type": "stream",
     "text": [
      "                                                                                \r"
     ]
    },
    {
     "data": {
      "text/plain": [
       "DataFrame[summary: string, unicef_region: string, iso3: string, Country: string, 2022: string, 2021: string, 2020: string, 2019: string, 2018: string, 2017: string, 2016: string, 2015: string, 2014: string, 2013: string, 2012: string, 2011: string, 2010: string, 2009: string, 2008: string, 2007: string, 2006: string, 2005: string, 2004: string, 2003: string, 2002: string, 2001: string, 2000: string, 1999: string, 1998: string, 1997: string, 1996: string, 1995: string, 1994: string, 1993: string, 1992: string, 1991: string, 1990: string, 1989: string, 1988: string, 1987: string, 1986: string, 1985: string, 1984: string, 1983: string, 1982: string, 1981: string, 1980: string]"
      ]
     },
     "execution_count": 2,
     "metadata": {},
     "output_type": "execute_result"
    }
   ],
   "source": [
    "\n",
    "\n",
    "schema = StructType([\n",
    "    StructField(\"unicef_region\", StringType(), True),\n",
    "    StructField(\"iso3\", StringType(), True),\n",
    "    StructField(\"Country\", StringType(), True),\n",
    "    StructField(\"2022\", FloatType(), True),\n",
    "    StructField(\"2021\", FloatType(), True),\n",
    "    StructField(\"2020\", FloatType(), True),\n",
    "    StructField(\"2019\", FloatType(), True),\n",
    "    StructField(\"2018\", FloatType(), True),\n",
    "    StructField(\"2017\", FloatType(), True),\n",
    "    StructField(\"2016\", FloatType(), True),\n",
    "    StructField(\"2015\", FloatType(), True),\n",
    "    StructField(\"2014\", FloatType(), True),\n",
    "    StructField(\"2013\", FloatType(), True),\n",
    "    StructField(\"2012\", FloatType(), True),\n",
    "    StructField(\"2011\", FloatType(), True),\n",
    "    StructField(\"2010\", FloatType(), True),\n",
    "    StructField(\"2009\", FloatType(), True),\n",
    "    StructField(\"2008\", FloatType(), True),\n",
    "    StructField(\"2007\", FloatType(), True),\n",
    "    StructField(\"2006\", FloatType(), True),\n",
    "    StructField(\"2005\", FloatType(), True),\n",
    "    StructField(\"2004\", FloatType(), True),\n",
    "    StructField(\"2003\", FloatType(), True),\n",
    "    StructField(\"2002\", FloatType(), True),\n",
    "    StructField(\"2001\", FloatType(), True),\n",
    "    StructField(\"2000\", FloatType(), True),\n",
    "    StructField(\"1999\", FloatType(), True),\n",
    "    StructField(\"1998\", FloatType(), True),\n",
    "    StructField(\"1997\", FloatType(), True),\n",
    "    StructField(\"1996\", FloatType(), True),\n",
    "    StructField(\"1995\", FloatType(), True),\n",
    "    StructField(\"1994\", FloatType(), True),\n",
    "    StructField(\"1993\", FloatType(), True),\n",
    "    StructField(\"1992\", FloatType(), True),\n",
    "    StructField(\"1991\", FloatType(), True),\n",
    "    StructField(\"1990\", FloatType(), True),\n",
    "    StructField(\"1989\", FloatType(), True),\n",
    "    StructField(\"1988\", FloatType(), True),\n",
    "    StructField(\"1987\", FloatType(), True),\n",
    "    StructField(\"1986\", FloatType(), True),\n",
    "    StructField(\"1985\", FloatType(), True),\n",
    "    StructField(\"1984\", FloatType(), True),\n",
    "    StructField(\"1983\", FloatType(), True),\n",
    "    StructField(\"1982\", FloatType(), True),\n",
    "    StructField(\"1981\", FloatType(), True),\n",
    "    StructField(\"1980\", FloatType(), True),\n",
    "\n",
    "])\n",
    "df1 = spark.read.csv('raw_vac.csv', header=True, schema=schema)\n",
    "df1.show()\n",
    "df1.describe()"
   ]
  },
  {
   "cell_type": "code",
   "execution_count": 3,
   "id": "af9e5a6e",
   "metadata": {},
   "outputs": [
    {
     "name": "stdout",
     "output_type": "stream",
     "text": [
      "+-------------------+-----+-----+-----+-----+-----+-----+-----+-----+-----+----+-----+-----+-----+-----+----+-----+----+----+----+----+----+----+\n",
      "|            Country| 2021| 2020| 2019| 2018| 2017| 2016| 2015| 2014| 2013|2012| 2011| 2010| 2009| 2008|2007| 2006|2005|2004|2003|2002|2001|2000|\n",
      "+-------------------+-----+-----+-----+-----+-----+-----+-----+-----+-----+----+-----+-----+-----+-----+----+-----+----+----+----+----+----+----+\n",
      "|        Afghanistan|21.83|15.53|14.83|14.21|12.62|11.82|10.11| 9.53| 8.81| 7.9| 8.56| 8.57| 9.82|10.26| 9.9|10.62|9.95|9.81|8.94|9.44|null|null|\n",
      "|            Albania| 7.27| 7.52| 6.86| 6.67| 6.58| 6.73| 6.46| 6.43| 6.28|6.16| 6.18| 6.24| 5.83| 5.51|5.93| 5.63|5.73|5.89|5.91|5.66|5.93|5.94|\n",
      "|            Algeria| 5.53| 6.14| 5.87| 6.39| 6.53| 6.59| 6.96| 6.55| 6.04| 6.0| 5.27| 5.12| 5.36|  4.2|3.82| 3.36|3.24|3.54| 3.6|3.73|3.84|3.49|\n",
      "|            Andorra| 8.33| 8.79| 7.32| 7.38| 7.07| 6.91| 6.92| 6.77|  6.8|6.71| 7.62| 7.68| 6.08| 5.67|4.92| 4.97|5.59|5.29|5.55| 6.0|5.86|5.95|\n",
      "|             Angola| 2.96| 3.22| 2.48| 2.59| 2.79| 2.71| 2.61| 2.43| 2.73| 2.4| 2.65|  2.7| 3.84| 3.32|2.97| 2.69|2.85|3.97|3.55|3.33|4.48|1.91|\n",
      "|Antigua and Barbuda| 5.85| 5.92| 4.38| 4.85| 4.87| 5.12| 5.28| 5.87| 5.51|5.48| 5.44| 5.38| 4.18|  4.2|4.45| 4.63|4.99|5.12|5.58|5.29|5.44|4.72|\n",
      "|          Argentina| 9.71|10.35|10.04|10.29|10.23| 9.86|10.23| 9.67| 9.78|9.83| 9.42| 9.45| 9.46| 8.18|7.83| 7.64|7.61|7.23|6.89|7.39|8.37|8.22|\n",
      "|            Armenia|12.34|12.24|11.38|10.01|10.36| 9.95|10.12|10.18|10.32|9.13| 9.38| 9.24| 8.44| 6.64| 5.5| 5.85|5.86|6.06|7.18|7.61|4.65| 4.2|\n",
      "|          Australia|10.54|10.68|10.22|10.06|10.12|10.09|10.18| 9.83| 8.75|8.67| 8.54| 8.42| 8.54| 8.25|8.05| 7.98|7.97|8.09|7.88|7.88|7.68|7.59|\n",
      "|            Austria| 12.1|11.39|10.49|10.35|10.38|10.35|10.37|10.37|10.29|10.2|10.03|10.22|10.23| 9.73|9.53| 9.53|9.63|9.71|9.55|9.39|9.27| 9.2|\n",
      "|         Azerbaijan|  4.7| 5.85| 4.18| 3.84| 4.07| 4.42| 4.34| 3.59| 3.23|3.16|  2.6| 2.65| 2.77| 2.05|1.99| 2.07|2.23|2.66|2.73|2.73|2.77|2.95|\n",
      "|            Bahamas| 7.14| 7.65| 5.82| 5.98|  6.7| 5.68| 5.16| 5.54| 5.59|5.32| 5.32| 5.26| 5.15| 4.86| 4.5| 4.31|4.03|4.05|4.02|3.81|3.92| 3.8|\n",
      "|            Bahrain| 4.27| 4.72| 3.96| 4.13| 4.51| 4.86| 4.98| 4.41| 4.31|4.11| 3.87| 4.09| 4.33|  3.2| 3.3| 3.11|3.26| 3.5|3.89|3.68|3.49|3.34|\n",
      "|         Bangladesh| 2.36| 2.27| 2.26| 2.32| 2.37| 2.39| 2.27| 2.28|  2.3|2.35| 2.36| 2.29| 2.18| 2.12|2.17| 2.11|2.06| 2.0|1.96|1.93|1.77|1.81|\n",
      "|           Barbados| 8.09| 7.37|  6.2| 6.45| 6.65| 6.84| 6.83| 6.97|  7.4|7.78|  6.9| 6.77| 7.15| 6.48|6.06| 6.58|6.78|7.31|6.69|5.86|5.53|5.33|\n",
      "|            Belarus| 6.57| 6.41| 5.86| 5.53| 5.76| 5.91| 6.07| 5.39|  5.7|5.25| 4.87| 5.66| 5.39| 5.29|5.69| 5.57|6.07|5.74|5.77|5.62|5.71|5.28|\n",
      "|            Belgium|11.04| 11.2|10.79|10.86| 10.8|10.79| 10.8|10.61|10.58|10.5|10.36| 10.2|10.32|  9.6|9.14| 9.13|9.22|9.33|9.16|8.32|8.15| 8.0|\n",
      "|             Belize| 4.98| 5.31| 4.81| 4.75| 4.62| 4.77| 4.65| 4.88| 4.44|4.36| 4.55|  4.5| 4.53| 4.54|4.08| 3.57|3.47|3.45|3.56|3.59|3.49|2.98|\n",
      "|              Benin| 2.58| 2.47| 2.51| 2.89| 2.67|  2.8| 2.73| 2.69| 2.87|3.08|  3.0| 3.01| 2.89| 2.65|2.94| 3.29|3.22|3.23|3.12| 3.1| 3.3|2.96|\n",
      "|             Bhutan| 3.85| 4.36|  3.6| 3.24| 3.34| 3.58| 3.76| 3.56| 3.71|3.62| 3.35| 3.56| 3.55| 3.38|4.13| 4.41|4.13| 4.6|4.13| 4.6| 5.0|4.45|\n",
      "+-------------------+-----+-----+-----+-----+-----+-----+-----+-----+-----+----+-----+-----+-----+-----+----+-----+----+----+----+----+----+----+\n",
      "only showing top 20 rows\n",
      "\n"
     ]
    },
    {
     "name": "stderr",
     "output_type": "stream",
     "text": [
      "                                                                                \r"
     ]
    },
    {
     "data": {
      "text/plain": [
       "DataFrame[summary: string, Country: string, 2021: string, 2020: string, 2019: string, 2018: string, 2017: string, 2016: string, 2015: string, 2014: string, 2013: string, 2012: string, 2011: string, 2010: string, 2009: string, 2008: string, 2007: string, 2006: string, 2005: string, 2004: string, 2003: string, 2002: string, 2001: string, 2000: string]"
      ]
     },
     "execution_count": 3,
     "metadata": {},
     "output_type": "execute_result"
    }
   ],
   "source": [
    "schema = StructType([\n",
    "    StructField(\"Country\", StringType(), True),\n",
    "    StructField(\"2021\", FloatType(), True),\n",
    "    StructField(\"2020\", FloatType(), True),\n",
    "    StructField(\"2019\", FloatType(), True),\n",
    "    StructField(\"2018\", FloatType(), True),\n",
    "    StructField(\"2017\", FloatType(), True),\n",
    "    StructField(\"2016\", FloatType(), True),\n",
    "    StructField(\"2015\", FloatType(), True),\n",
    "    StructField(\"2014\", FloatType(), True),\n",
    "    StructField(\"2013\", FloatType(), True),\n",
    "    StructField(\"2012\", FloatType(), True),\n",
    "    StructField(\"2011\", FloatType(), True),\n",
    "    StructField(\"2010\", FloatType(), True),\n",
    "    StructField(\"2009\", FloatType(), True),\n",
    "    StructField(\"2008\", FloatType(), True),\n",
    "    StructField(\"2007\", FloatType(), True),\n",
    "    StructField(\"2006\", FloatType(), True),\n",
    "    StructField(\"2005\", FloatType(), True),\n",
    "    StructField(\"2004\", FloatType(), True),\n",
    "    StructField(\"2003\", FloatType(), True),\n",
    "    StructField(\"2002\", FloatType(), True),\n",
    "    StructField(\"2001\", FloatType(), True),\n",
    "    StructField(\"2000\", FloatType(), True),\n",
    "    \n",
    "])   \n",
    "df2 = spark.read.csv('raw_exp.csv', header=True, schema=schema)\n",
    "df2.show()\n",
    "df2.describe()"
   ]
  },
  {
   "cell_type": "markdown",
   "id": "cfbee4a5",
   "metadata": {},
   "source": [
    "# 2.3 - Data exploration "
   ]
  },
  {
   "cell_type": "code",
   "execution_count": 4,
   "id": "51be02d4",
   "metadata": {},
   "outputs": [
    {
     "name": "stderr",
     "output_type": "stream",
     "text": [
      "                                                                                \r"
     ]
    },
    {
     "data": {
      "text/plain": [
       "(array([  0,   1,   2,   3,   4,   5,   6,   7,   8,   9,  10,  11,  12,\n",
       "         13,  14,  15,  16,  17,  18,  19,  20,  21,  22,  23,  24,  25,\n",
       "         26,  27,  28,  29,  30,  31,  32,  33,  34,  35,  36,  37,  38,\n",
       "         39,  40,  41,  42,  43,  44,  45,  46,  47,  48,  49,  50,  51,\n",
       "         52,  53,  54,  55,  56,  57,  58,  59,  60,  61,  62,  63,  64,\n",
       "         65,  66,  67,  68,  69,  70,  71,  72,  73,  74,  75,  76,  77,\n",
       "         78,  79,  80,  81,  82,  83,  84,  85,  86,  87,  88,  89,  90,\n",
       "         91,  92,  93,  94,  95,  96,  97,  98,  99, 100, 101, 102, 103,\n",
       "        104, 105, 106, 107, 108, 109, 110, 111, 112, 113, 114, 115, 116,\n",
       "        117, 118, 119, 120, 121, 122, 123, 124, 125, 126, 127, 128, 129,\n",
       "        130, 131, 132, 133, 134, 135, 136, 137, 138, 139, 140, 141, 142,\n",
       "        143, 144, 145, 146, 147, 148, 149, 150, 151, 152, 153, 154, 155,\n",
       "        156, 157, 158, 159, 160, 161, 162, 163, 164, 165, 166, 167]),\n",
       " [Text(0, 0, 'Afghanistan'),\n",
       "  Text(1, 0, 'Albania'),\n",
       "  Text(2, 0, 'Algeria'),\n",
       "  Text(3, 0, 'Angola'),\n",
       "  Text(4, 0, 'Argentina'),\n",
       "  Text(5, 0, 'Armenia'),\n",
       "  Text(6, 0, 'Austria'),\n",
       "  Text(7, 0, 'Azerbaijan'),\n",
       "  Text(8, 0, 'Bangladesh'),\n",
       "  Text(9, 0, 'Belarus'),\n",
       "  Text(10, 0, 'Belize'),\n",
       "  Text(11, 0, 'Benin'),\n",
       "  Text(12, 0, 'Bhutan'),\n",
       "  Text(13, 0, 'Bolivia (Plurinational State of)'),\n",
       "  Text(14, 0, 'Bosnia and Herzegovina'),\n",
       "  Text(15, 0, 'Botswana'),\n",
       "  Text(16, 0, 'Brazil'),\n",
       "  Text(17, 0, 'Brunei Darussalam'),\n",
       "  Text(18, 0, 'Bulgaria'),\n",
       "  Text(19, 0, 'Burkina Faso'),\n",
       "  Text(20, 0, 'Burundi'),\n",
       "  Text(21, 0, 'Cabo Verde'),\n",
       "  Text(22, 0, 'Cambodia'),\n",
       "  Text(23, 0, 'Cameroon'),\n",
       "  Text(24, 0, 'Central African Republic'),\n",
       "  Text(25, 0, 'Chad'),\n",
       "  Text(26, 0, 'Chile'),\n",
       "  Text(27, 0, 'China'),\n",
       "  Text(28, 0, 'Colombia'),\n",
       "  Text(29, 0, 'Comoros'),\n",
       "  Text(30, 0, 'Congo'),\n",
       "  Text(31, 0, 'Cook Islands'),\n",
       "  Text(32, 0, 'Costa Rica'),\n",
       "  Text(33, 0, \"Cote d'Ivoire\"),\n",
       "  Text(34, 0, 'Croatia'),\n",
       "  Text(35, 0, 'Cuba'),\n",
       "  Text(36, 0, 'Czechia'),\n",
       "  Text(37, 0, \"Democratic People's Republic of Korea\"),\n",
       "  Text(38, 0, 'Democratic Republic of the Congo'),\n",
       "  Text(39, 0, 'Djibouti'),\n",
       "  Text(40, 0, 'Dominica'),\n",
       "  Text(41, 0, 'Dominican Republic'),\n",
       "  Text(42, 0, 'Ecuador'),\n",
       "  Text(43, 0, 'Egypt'),\n",
       "  Text(44, 0, 'El Salvador'),\n",
       "  Text(45, 0, 'Equatorial Guinea'),\n",
       "  Text(46, 0, 'Eritrea'),\n",
       "  Text(47, 0, 'Estonia'),\n",
       "  Text(48, 0, 'Eswatini'),\n",
       "  Text(49, 0, 'Ethiopia'),\n",
       "  Text(50, 0, 'Fiji'),\n",
       "  Text(51, 0, 'Finland'),\n",
       "  Text(52, 0, 'France'),\n",
       "  Text(53, 0, 'Gabon'),\n",
       "  Text(54, 0, 'Gambia'),\n",
       "  Text(55, 0, 'Georgia'),\n",
       "  Text(56, 0, 'Ghana'),\n",
       "  Text(57, 0, 'Greece'),\n",
       "  Text(58, 0, 'Guatemala'),\n",
       "  Text(59, 0, 'Guinea'),\n",
       "  Text(60, 0, 'Guinea-Bissau'),\n",
       "  Text(61, 0, 'Guyana'),\n",
       "  Text(62, 0, 'Haiti'),\n",
       "  Text(63, 0, 'Honduras'),\n",
       "  Text(64, 0, 'Hungary'),\n",
       "  Text(65, 0, 'India'),\n",
       "  Text(66, 0, 'Indonesia'),\n",
       "  Text(67, 0, 'Iran (Islamic Republic of)'),\n",
       "  Text(68, 0, 'Iraq'),\n",
       "  Text(69, 0, 'Ireland'),\n",
       "  Text(70, 0, 'Israel'),\n",
       "  Text(71, 0, 'Jamaica'),\n",
       "  Text(72, 0, 'Japan'),\n",
       "  Text(73, 0, 'Jordan'),\n",
       "  Text(74, 0, 'Kazakhstan'),\n",
       "  Text(75, 0, 'Kenya'),\n",
       "  Text(76, 0, 'Kiribati'),\n",
       "  Text(77, 0, 'Kuwait'),\n",
       "  Text(78, 0, 'Kyrgyzstan'),\n",
       "  Text(79, 0, \"Lao People's Democratic Republic\"),\n",
       "  Text(80, 0, 'Latvia'),\n",
       "  Text(81, 0, 'Lesotho'),\n",
       "  Text(82, 0, 'Liberia'),\n",
       "  Text(83, 0, 'Libya'),\n",
       "  Text(84, 0, 'Lithuania'),\n",
       "  Text(85, 0, 'Madagascar'),\n",
       "  Text(86, 0, 'Malawi'),\n",
       "  Text(87, 0, 'Malaysia'),\n",
       "  Text(88, 0, 'Maldives'),\n",
       "  Text(89, 0, 'Mali'),\n",
       "  Text(90, 0, 'Malta'),\n",
       "  Text(91, 0, 'Marshall Islands'),\n",
       "  Text(92, 0, 'Mauritania'),\n",
       "  Text(93, 0, 'Mauritius'),\n",
       "  Text(94, 0, 'Mexico'),\n",
       "  Text(95, 0, 'Micronesia (Federated States of)'),\n",
       "  Text(96, 0, 'Monaco'),\n",
       "  Text(97, 0, 'Mongolia'),\n",
       "  Text(98, 0, 'Montenegro'),\n",
       "  Text(99, 0, 'Morocco'),\n",
       "  Text(100, 0, 'Mozambique'),\n",
       "  Text(101, 0, 'Myanmar'),\n",
       "  Text(102, 0, 'Namibia'),\n",
       "  Text(103, 0, 'Nauru'),\n",
       "  Text(104, 0, 'Nepal'),\n",
       "  Text(105, 0, 'Nicaragua'),\n",
       "  Text(106, 0, 'Niger'),\n",
       "  Text(107, 0, 'Nigeria'),\n",
       "  Text(108, 0, 'Niue'),\n",
       "  Text(109, 0, 'North Macedonia'),\n",
       "  Text(110, 0, 'Oman'),\n",
       "  Text(111, 0, 'Pakistan'),\n",
       "  Text(112, 0, 'Panama'),\n",
       "  Text(113, 0, 'Papua New Guinea'),\n",
       "  Text(114, 0, 'Paraguay'),\n",
       "  Text(115, 0, 'Peru'),\n",
       "  Text(116, 0, 'Philippines'),\n",
       "  Text(117, 0, 'Poland'),\n",
       "  Text(118, 0, 'Portugal'),\n",
       "  Text(119, 0, 'Qatar'),\n",
       "  Text(120, 0, 'Republic of Korea'),\n",
       "  Text(121, 0, 'Republic of Moldova'),\n",
       "  Text(122, 0, 'Romania'),\n",
       "  Text(123, 0, 'Russian Federation'),\n",
       "  Text(124, 0, 'Rwanda'),\n",
       "  Text(125, 0, 'Saint Kitts and Nevis'),\n",
       "  Text(126, 0, 'Saint Lucia'),\n",
       "  Text(127, 0, 'Saint Vincent and the Grenadines'),\n",
       "  Text(128, 0, 'Samoa'),\n",
       "  Text(129, 0, 'Sao Tome and Principe'),\n",
       "  Text(130, 0, 'Saudi Arabia'),\n",
       "  Text(131, 0, 'Senegal'),\n",
       "  Text(132, 0, 'Serbia'),\n",
       "  Text(133, 0, 'Seychelles'),\n",
       "  Text(134, 0, 'Sierra Leone'),\n",
       "  Text(135, 0, 'Singapore'),\n",
       "  Text(136, 0, 'Slovakia'),\n",
       "  Text(137, 0, 'Slovenia'),\n",
       "  Text(138, 0, 'Solomon Islands'),\n",
       "  Text(139, 0, 'Somalia'),\n",
       "  Text(140, 0, 'South Africa'),\n",
       "  Text(141, 0, 'South Sudan'),\n",
       "  Text(142, 0, 'Sri Lanka'),\n",
       "  Text(143, 0, 'State of Palestine'),\n",
       "  Text(144, 0, 'Sudan'),\n",
       "  Text(145, 0, 'Sweden'),\n",
       "  Text(146, 0, 'Syrian Arab Republic'),\n",
       "  Text(147, 0, 'Tajikistan'),\n",
       "  Text(148, 0, 'Thailand'),\n",
       "  Text(149, 0, 'Timor-Leste'),\n",
       "  Text(150, 0, 'Togo'),\n",
       "  Text(151, 0, 'Tonga'),\n",
       "  Text(152, 0, 'Tunisia'),\n",
       "  Text(153, 0, 'Turkiye'),\n",
       "  Text(154, 0, 'Turkmenistan'),\n",
       "  Text(155, 0, 'Tuvalu'),\n",
       "  Text(156, 0, 'Uganda'),\n",
       "  Text(157, 0, 'Ukraine'),\n",
       "  Text(158, 0, 'United Arab Emirates'),\n",
       "  Text(159, 0, 'United Republic of Tanzania'),\n",
       "  Text(160, 0, 'Uruguay'),\n",
       "  Text(161, 0, 'Uzbekistan'),\n",
       "  Text(162, 0, 'Vanuatu'),\n",
       "  Text(163, 0, 'Venezuela (Bolivarian Republic of)'),\n",
       "  Text(164, 0, 'Viet Nam'),\n",
       "  Text(165, 0, 'Yemen'),\n",
       "  Text(166, 0, 'Zambia'),\n",
       "  Text(167, 0, 'Zimbabwe')])"
      ]
     },
     "execution_count": 4,
     "metadata": {},
     "output_type": "execute_result"
    },
    {
     "data": {
      "text/plain": [
       "<Figure size 1008x576 with 0 Axes>"
      ]
     },
     "metadata": {},
     "output_type": "display_data"
    },
    {
     "data": {
      "image/png": "[encoded data removed]",
      "text/plain": [
       "<Figure size 432x288 with 1 Axes>"
      ]
     },
     "metadata": {
      "needs_background": "light"
     },
     "output_type": "display_data"
    }
   ],
   "source": [
    "from pyspark.sql import SparkSession\n",
    "import pandas as pd\n",
    "import matplotlib.pyplot as plt\n",
    "\n",
    "\n",
    "null_counts = df1.select(\"Country\", *[f\"{year}\" for year in range(1980, 2023)]).rdd.map(lambda row: (row['Country'], sum([1 for x in row[1:] if x is None]))).collect()\n",
    "df_null_counts = pd.DataFrame(null_counts, columns=['Country', 'null_count'])\n",
    "\n",
    "plt.figure(figsize=(14, 8))\n",
    "df_null_counts.set_index('Country').plot(kind='bar', legend=False)\n",
    "plt.title('Number of Null Values per Country')\n",
    "plt.xlabel('Country')\n",
    "plt.ylabel('Number of Null Values')\n",
    "plt.xticks(rotation=90)\n"
   ]
  },
  {
   "cell_type": "markdown",
   "id": "0047bb46",
   "metadata": {},
   "source": [
    "# 2.4 - Data quality must be verified by checking for errors, missing values, and data quality patterns explicitly."
   ]
  },
  {
   "cell_type": "code",
   "execution_count": 5,
   "id": "1e138cd2",
   "metadata": {},
   "outputs": [
    {
     "name": "stdout",
     "output_type": "stream",
     "text": [
      "unicef_region: 0\n",
      "iso3: 0\n",
      "Country: 0\n",
      "2022: 12\n",
      "2021: 12\n",
      "2020: 12\n",
      "2019: 12\n",
      "2018: 12\n",
      "2017: 12\n",
      "2016: 11\n",
      "2015: 10\n",
      "2014: 10\n",
      "2013: 10\n",
      "2012: 8\n",
      "2011: 8\n",
      "2010: 9\n",
      "2009: 8\n",
      "2008: 8\n",
      "2007: 7\n",
      "2006: 7\n",
      "2005: 9\n",
      "2004: 8\n",
      "2003: 8\n",
      "2002: 8\n",
      "2001: 10\n",
      "2000: 10\n",
      "1999: 10\n",
      "1998: 12\n",
      "1997: 12\n",
      "1996: 11\n",
      "1995: 11\n",
      "1994: 10\n",
      "1993: 11\n",
      "1992: 15\n",
      "1991: 33\n",
      "1990: 34\n",
      "1989: 34\n",
      "1988: 35\n",
      "1987: 37\n",
      "1986: 37\n",
      "1985: 39\n",
      "1984: 44\n",
      "1983: 52\n",
      "1982: 58\n",
      "1981: 64\n",
      "1980: 90\n"
     ]
    }
   ],
   "source": [
    "null_counts = {}\n",
    "for column in df1.columns:\n",
    "        null_count = df1.filter(df1[column].isNull()).count()\n",
    "        null_counts[column] = null_count\n",
    "for column, count in null_counts.items():\n",
    "    print(f\"{column}: {count}\")"
   ]
  },
  {
   "cell_type": "code",
   "execution_count": 6,
   "id": "a1158555",
   "metadata": {},
   "outputs": [
    {
     "name": "stdout",
     "output_type": "stream",
     "text": [
      "Country: 0\n",
      "2021: 3\n",
      "2020: 3\n",
      "2019: 3\n",
      "2018: 3\n",
      "2017: 4\n",
      "2016: 5\n",
      "2015: 4\n",
      "2014: 4\n",
      "2013: 4\n",
      "2012: 3\n",
      "2011: 2\n",
      "2010: 3\n",
      "2009: 4\n",
      "2008: 4\n",
      "2007: 4\n",
      "2006: 4\n",
      "2005: 4\n",
      "2004: 4\n",
      "2003: 4\n",
      "2002: 6\n",
      "2001: 7\n",
      "2000: 7\n"
     ]
    }
   ],
   "source": [
    "null_counts = {}\n",
    "for column in df2.columns:\n",
    "        null_count = df2.filter(df2[column].isNull()).count()\n",
    "        null_counts[column] = null_count\n",
    "for column, count in null_counts.items():\n",
    "    print(f\"{column}: {count}\")"
   ]
  },
  {
   "cell_type": "markdown",
   "id": "62952ed6",
   "metadata": {},
   "source": [
    "# 3.2 To clean the data, issues must be made explicit, then explicitly resolved. "
   ]
  },
  {
   "cell_type": "code",
   "execution_count": 7,
   "id": "0a8cc2ca",
   "metadata": {},
   "outputs": [
    {
     "name": "stdout",
     "output_type": "stream",
     "text": [
      "+-------------+----+--------------------+----+----+----+----+----+----+----+----+----+----+----+----+----+----+----+----+----+----+----+----+----+----+\n",
      "|unicef_region|iso3|             Country|2021|2020|2019|2018|2017|2016|2015|2014|2013|2012|2011|2010|2009|2008|2007|2006|2005|2004|2003|2002|2001|2000|\n",
      "+-------------+----+--------------------+----+----+----+----+----+----+----+----+----+----+----+----+----+----+----+----+----+----+----+----+----+----+\n",
      "|         ROSA| AFG|         Afghanistan|84.0|87.0|86.0|89.0|84.0|78.0|76.0|74.0|72.0|78.0|71.0|68.0|64.0|66.0|60.0|60.0|57.0|51.0|44.0|46.0|43.0|30.0|\n",
      "|         ECAR| ALB|             Albania|99.0|98.0|99.0|99.0|99.0|99.0|99.0|99.0|99.0|96.0|97.0|99.0|97.0|99.0|98.0|97.0|98.0|97.0|95.0|94.0|93.0|93.0|\n",
      "|         MENA| DZA|             Algeria|98.0|99.0|99.0|99.0|99.0|99.0|99.0|99.0|99.0|99.0|99.0|99.0|99.0|99.0|99.0|99.0|98.0|98.0|98.0|98.0|97.0|97.0|\n",
      "|         ESAR| AGO|              Angola|56.0|58.0|69.0|72.0|69.0|40.0|64.0|72.0|71.0|73.0|74.0|79.0|70.0|73.0|75.0|54.0|51.0|63.0|54.0|76.0|70.0|53.0|\n",
      "|         LACR| ARG|           Argentina|80.0|75.0|85.0|93.0|95.0|92.0|96.0|99.0|99.0|99.0|99.0|99.0|99.0|99.0|99.0|99.0|99.0|99.0|99.0|95.0|92.0|95.0|\n",
      "|         ECAR| ARM|             Armenia|98.0|99.0|99.0|99.0|99.0|99.0|99.0|99.0|99.0|96.0|96.0|95.0|99.0|98.0|94.0|91.0|94.0|96.0|92.0|97.0|96.0|97.0|\n",
      "|Non-programme| AUT|             Austria|null|null|null|null|null|null|null|null|null|null|null|null|null|null|null|null|null|null|null|null|null|null|\n",
      "|         ECAR| AZE|          Azerbaijan|95.0|94.0|96.0|97.0|97.0|98.0|98.0|98.0|98.0|98.0|99.0|98.0|95.0|92.0|88.0|86.0|82.0|82.0|83.0|82.0|83.0|81.0|\n",
      "|         ROSA| BGD|          Bangladesh|99.0|99.0|99.0|99.0|99.0|99.0|99.0|99.0|99.0|98.0|99.0|98.0|99.0|99.0|98.0|97.0|97.0|96.0|93.0|95.0|95.0|94.0|\n",
      "|         ECAR| BLR|             Belarus|98.0|97.0|97.0|98.0|98.0|98.0|97.0|98.0|99.0|98.0|99.0|99.0|98.0|98.0|98.0|99.0|99.0|99.0|99.0|99.0|99.0|99.0|\n",
      "|         LACR| BLZ|              Belize|84.0|76.0|95.0|99.0|90.0|94.0|98.0|98.0|99.0|98.0|98.0|98.0|99.0|98.0|99.0|97.0|96.0|99.0|99.0|96.0|98.0|96.0|\n",
      "|         WCAR| BEN|               Benin|88.0|88.0|88.0|88.0|88.0|88.0|96.0|96.0|95.0|96.0|88.0|90.0|93.0|96.0|97.0|93.0|88.0|89.0|90.0|90.0|91.0|92.0|\n",
      "|         ROSA| BTN|              Bhutan|99.0|98.0|92.0|99.0|99.0|99.0|99.0|99.0|97.0|95.0|95.0|96.0|94.0|99.0|94.0|92.0|92.0|92.0|93.0|83.0|81.0|97.0|\n",
      "|         LACR| BOL|Bolivia (Plurinat...|78.0|82.0|80.0|90.0|93.0|96.0|99.0|94.0|94.0|99.0|99.0|98.0|93.0|90.0|87.0|87.0|88.0|86.0|96.0|93.0|90.0|92.0|\n",
      "|         ECAR| BIH|Bosnia and Herzeg...|94.0|96.0|96.0|95.0|97.0|97.0|95.0|98.0|97.0|96.0|94.0|96.0|97.0|96.0|98.0|97.0|95.0|95.0|94.0|91.0|95.0|93.0|\n",
      "|         ESAR| BWA|            Botswana|98.0|98.0|98.0|98.0|98.0|98.0|98.0|98.0|98.0|98.0|98.0|98.0|99.0|99.0|99.0|99.0|99.0|99.0|99.0|99.0|99.0|99.0|\n",
      "|         LACR| BRA|              Brazil|69.0|73.0|85.0|98.0|94.0|96.0|99.0|99.0|99.0|99.0|99.0|99.0|99.0|99.0|99.0|99.0|99.0|99.0|99.0|99.0|99.0|99.0|\n",
      "|         EAPR| BRN|   Brunei Darussalam|99.0|99.0|99.0|99.0|99.0|99.0|99.0|99.0|99.0|99.0|96.0|95.0|99.0|99.0|96.0|99.0|94.0|99.0|95.0|95.0|99.0|99.0|\n",
      "|         ECAR| BGR|            Bulgaria|97.0|97.0|96.0|96.0|96.0|96.0|96.0|97.0|97.0|97.0|98.0|98.0|98.0|98.0|98.0|98.0|98.0|98.0|98.0|98.0|98.0|98.0|\n",
      "|         WCAR| BFA|        Burkina Faso|98.0|98.0|98.0|98.0|98.0|98.0|98.0|98.0|96.0|96.0|99.0|99.0|99.0|99.0|99.0|99.0|99.0|99.0|83.0|90.0|80.0|81.0|\n",
      "+-------------+----+--------------------+----+----+----+----+----+----+----+----+----+----+----+----+----+----+----+----+----+----+----+----+----+----+\n",
      "only showing top 20 rows\n",
      "\n"
     ]
    }
   ],
   "source": [
    "selected_columns = [\"unicef_region\", \"iso3\", \"Country\"] + [str(year) for year in range(2021, 1999, -1)]\n",
    "df1_selected = df1.select(selected_columns)\n",
    "\n",
    "df1_selected.show()"
   ]
  },
  {
   "cell_type": "code",
   "execution_count": 8,
   "id": "9be21e96",
   "metadata": {},
   "outputs": [
    {
     "name": "stdout",
     "output_type": "stream",
     "text": [
      "+-------------+----+--------------------+----+----+----+----+----+----+----+----+----+----+----+----+----+----+----+----+----+----+----+----+----+----+\n",
      "|unicef_region|iso3|             Country|2021|2020|2019|2018|2017|2016|2015|2014|2013|2012|2011|2010|2009|2008|2007|2006|2005|2004|2003|2002|2001|2000|\n",
      "+-------------+----+--------------------+----+----+----+----+----+----+----+----+----+----+----+----+----+----+----+----+----+----+----+----+----+----+\n",
      "|         ROSA| AFG|         Afghanistan|84.0|87.0|86.0|89.0|84.0|78.0|76.0|74.0|72.0|78.0|71.0|68.0|64.0|66.0|60.0|60.0|57.0|51.0|44.0|46.0|43.0|30.0|\n",
      "|         ECAR| ALB|             Albania|99.0|98.0|99.0|99.0|99.0|99.0|99.0|99.0|99.0|96.0|97.0|99.0|97.0|99.0|98.0|97.0|98.0|97.0|95.0|94.0|93.0|93.0|\n",
      "|         MENA| DZA|             Algeria|98.0|99.0|99.0|99.0|99.0|99.0|99.0|99.0|99.0|99.0|99.0|99.0|99.0|99.0|99.0|99.0|98.0|98.0|98.0|98.0|97.0|97.0|\n",
      "|         ESAR| AGO|              Angola|56.0|58.0|69.0|72.0|69.0|40.0|64.0|72.0|71.0|73.0|74.0|79.0|70.0|73.0|75.0|54.0|51.0|63.0|54.0|76.0|70.0|53.0|\n",
      "|         LACR| ARG|           Argentina|80.0|75.0|85.0|93.0|95.0|92.0|96.0|99.0|99.0|99.0|99.0|99.0|99.0|99.0|99.0|99.0|99.0|99.0|99.0|95.0|92.0|95.0|\n",
      "|         ECAR| ARM|             Armenia|98.0|99.0|99.0|99.0|99.0|99.0|99.0|99.0|99.0|96.0|96.0|95.0|99.0|98.0|94.0|91.0|94.0|96.0|92.0|97.0|96.0|97.0|\n",
      "|         ECAR| AZE|          Azerbaijan|95.0|94.0|96.0|97.0|97.0|98.0|98.0|98.0|98.0|98.0|99.0|98.0|95.0|92.0|88.0|86.0|82.0|82.0|83.0|82.0|83.0|81.0|\n",
      "|         ROSA| BGD|          Bangladesh|99.0|99.0|99.0|99.0|99.0|99.0|99.0|99.0|99.0|98.0|99.0|98.0|99.0|99.0|98.0|97.0|97.0|96.0|93.0|95.0|95.0|94.0|\n",
      "|         ECAR| BLR|             Belarus|98.0|97.0|97.0|98.0|98.0|98.0|97.0|98.0|99.0|98.0|99.0|99.0|98.0|98.0|98.0|99.0|99.0|99.0|99.0|99.0|99.0|99.0|\n",
      "|         LACR| BLZ|              Belize|84.0|76.0|95.0|99.0|90.0|94.0|98.0|98.0|99.0|98.0|98.0|98.0|99.0|98.0|99.0|97.0|96.0|99.0|99.0|96.0|98.0|96.0|\n",
      "|         WCAR| BEN|               Benin|88.0|88.0|88.0|88.0|88.0|88.0|96.0|96.0|95.0|96.0|88.0|90.0|93.0|96.0|97.0|93.0|88.0|89.0|90.0|90.0|91.0|92.0|\n",
      "|         ROSA| BTN|              Bhutan|99.0|98.0|92.0|99.0|99.0|99.0|99.0|99.0|97.0|95.0|95.0|96.0|94.0|99.0|94.0|92.0|92.0|92.0|93.0|83.0|81.0|97.0|\n",
      "|         LACR| BOL|Bolivia (Plurinat...|78.0|82.0|80.0|90.0|93.0|96.0|99.0|94.0|94.0|99.0|99.0|98.0|93.0|90.0|87.0|87.0|88.0|86.0|96.0|93.0|90.0|92.0|\n",
      "|         ECAR| BIH|Bosnia and Herzeg...|94.0|96.0|96.0|95.0|97.0|97.0|95.0|98.0|97.0|96.0|94.0|96.0|97.0|96.0|98.0|97.0|95.0|95.0|94.0|91.0|95.0|93.0|\n",
      "|         ESAR| BWA|            Botswana|98.0|98.0|98.0|98.0|98.0|98.0|98.0|98.0|98.0|98.0|98.0|98.0|99.0|99.0|99.0|99.0|99.0|99.0|99.0|99.0|99.0|99.0|\n",
      "|         LACR| BRA|              Brazil|69.0|73.0|85.0|98.0|94.0|96.0|99.0|99.0|99.0|99.0|99.0|99.0|99.0|99.0|99.0|99.0|99.0|99.0|99.0|99.0|99.0|99.0|\n",
      "|         EAPR| BRN|   Brunei Darussalam|99.0|99.0|99.0|99.0|99.0|99.0|99.0|99.0|99.0|99.0|96.0|95.0|99.0|99.0|96.0|99.0|94.0|99.0|95.0|95.0|99.0|99.0|\n",
      "|         ECAR| BGR|            Bulgaria|97.0|97.0|96.0|96.0|96.0|96.0|96.0|97.0|97.0|97.0|98.0|98.0|98.0|98.0|98.0|98.0|98.0|98.0|98.0|98.0|98.0|98.0|\n",
      "|         WCAR| BFA|        Burkina Faso|98.0|98.0|98.0|98.0|98.0|98.0|98.0|98.0|96.0|96.0|99.0|99.0|99.0|99.0|99.0|99.0|99.0|99.0|83.0|90.0|80.0|81.0|\n",
      "|         ESAR| BDI|             Burundi|95.0|83.0|93.0|91.0|92.0|93.0|93.0|92.0|95.0|98.0|90.0|93.0|98.0|99.0|97.0|98.0|89.0|91.0|90.0|88.0|87.0|85.0|\n",
      "+-------------+----+--------------------+----+----+----+----+----+----+----+----+----+----+----+----+----+----+----+----+----+----+----+----+----+----+\n",
      "only showing top 20 rows\n",
      "\n"
     ]
    }
   ],
   "source": [
    "df1_cleaned = df1_selected.dropna()\n",
    "df1_cleaned.show()"
   ]
  },
  {
   "cell_type": "code",
   "execution_count": 9,
   "id": "bd74a55e",
   "metadata": {},
   "outputs": [
    {
     "name": "stdout",
     "output_type": "stream",
     "text": [
      "unicef_region: 0\n",
      "iso3: 0\n",
      "Country: 0\n",
      "2021: 0\n",
      "2020: 0\n",
      "2019: 0\n",
      "2018: 0\n",
      "2017: 0\n",
      "2016: 0\n",
      "2015: 0\n",
      "2014: 0\n",
      "2013: 0\n",
      "2012: 0\n",
      "2011: 0\n",
      "2010: 0\n",
      "2009: 0\n",
      "2008: 0\n",
      "2007: 0\n",
      "2006: 0\n",
      "2005: 0\n",
      "2004: 0\n",
      "2003: 0\n",
      "2002: 0\n",
      "2001: 0\n",
      "2000: 0\n"
     ]
    }
   ],
   "source": [
    "null_counts = {}\n",
    "for column in df1_cleaned.columns:\n",
    "        null_count = df1_cleaned.filter(df1_cleaned[column].isNull()).count()\n",
    "        null_counts[column] = null_count\n",
    "for column, count in null_counts.items():\n",
    "    print(f\"{column}: {count}\")"
   ]
  },
  {
   "cell_type": "code",
   "execution_count": 10,
   "id": "5c917b12",
   "metadata": {},
   "outputs": [
    {
     "name": "stdout",
     "output_type": "stream",
     "text": [
      "+--------------------+-----+-----+-----+-----+-----+-----+-----+-----+-----+----+-----+-----+-----+----+----+----+----+----+----+----+----+----+\n",
      "|             Country| 2021| 2020| 2019| 2018| 2017| 2016| 2015| 2014| 2013|2012| 2011| 2010| 2009|2008|2007|2006|2005|2004|2003|2002|2001|2000|\n",
      "+--------------------+-----+-----+-----+-----+-----+-----+-----+-----+-----+----+-----+-----+-----+----+----+----+----+----+----+----+----+----+\n",
      "|             Albania| 7.27| 7.52| 6.86| 6.67| 6.58| 6.73| 6.46| 6.43| 6.28|6.16| 6.18| 6.24| 5.83|5.51|5.93|5.63|5.73|5.89|5.91|5.66|5.93|5.94|\n",
      "|             Algeria| 5.53| 6.14| 5.87| 6.39| 6.53| 6.59| 6.96| 6.55| 6.04| 6.0| 5.27| 5.12| 5.36| 4.2|3.82|3.36|3.24|3.54| 3.6|3.73|3.84|3.49|\n",
      "|             Andorra| 8.33| 8.79| 7.32| 7.38| 7.07| 6.91| 6.92| 6.77|  6.8|6.71| 7.62| 7.68| 6.08|5.67|4.92|4.97|5.59|5.29|5.55| 6.0|5.86|5.95|\n",
      "|              Angola| 2.96| 3.22| 2.48| 2.59| 2.79| 2.71| 2.61| 2.43| 2.73| 2.4| 2.65|  2.7| 3.84|3.32|2.97|2.69|2.85|3.97|3.55|3.33|4.48|1.91|\n",
      "| Antigua and Barbuda| 5.85| 5.92| 4.38| 4.85| 4.87| 5.12| 5.28| 5.87| 5.51|5.48| 5.44| 5.38| 4.18| 4.2|4.45|4.63|4.99|5.12|5.58|5.29|5.44|4.72|\n",
      "|           Argentina| 9.71|10.35|10.04|10.29|10.23| 9.86|10.23| 9.67| 9.78|9.83| 9.42| 9.45| 9.46|8.18|7.83|7.64|7.61|7.23|6.89|7.39|8.37|8.22|\n",
      "|             Armenia|12.34|12.24|11.38|10.01|10.36| 9.95|10.12|10.18|10.32|9.13| 9.38| 9.24| 8.44|6.64| 5.5|5.85|5.86|6.06|7.18|7.61|4.65| 4.2|\n",
      "|           Australia|10.54|10.68|10.22|10.06|10.12|10.09|10.18| 9.83| 8.75|8.67| 8.54| 8.42| 8.54|8.25|8.05|7.98|7.97|8.09|7.88|7.88|7.68|7.59|\n",
      "|             Austria| 12.1|11.39|10.49|10.35|10.38|10.35|10.37|10.37|10.29|10.2|10.03|10.22|10.23|9.73|9.53|9.53|9.63|9.71|9.55|9.39|9.27| 9.2|\n",
      "|          Azerbaijan|  4.7| 5.85| 4.18| 3.84| 4.07| 4.42| 4.34| 3.59| 3.23|3.16|  2.6| 2.65| 2.77|2.05|1.99|2.07|2.23|2.66|2.73|2.73|2.77|2.95|\n",
      "|             Bahamas| 7.14| 7.65| 5.82| 5.98|  6.7| 5.68| 5.16| 5.54| 5.59|5.32| 5.32| 5.26| 5.15|4.86| 4.5|4.31|4.03|4.05|4.02|3.81|3.92| 3.8|\n",
      "|             Bahrain| 4.27| 4.72| 3.96| 4.13| 4.51| 4.86| 4.98| 4.41| 4.31|4.11| 3.87| 4.09| 4.33| 3.2| 3.3|3.11|3.26| 3.5|3.89|3.68|3.49|3.34|\n",
      "|          Bangladesh| 2.36| 2.27| 2.26| 2.32| 2.37| 2.39| 2.27| 2.28|  2.3|2.35| 2.36| 2.29| 2.18|2.12|2.17|2.11|2.06| 2.0|1.96|1.93|1.77|1.81|\n",
      "|            Barbados| 8.09| 7.37|  6.2| 6.45| 6.65| 6.84| 6.83| 6.97|  7.4|7.78|  6.9| 6.77| 7.15|6.48|6.06|6.58|6.78|7.31|6.69|5.86|5.53|5.33|\n",
      "|             Belarus| 6.57| 6.41| 5.86| 5.53| 5.76| 5.91| 6.07| 5.39|  5.7|5.25| 4.87| 5.66| 5.39|5.29|5.69|5.57|6.07|5.74|5.77|5.62|5.71|5.28|\n",
      "|             Belgium|11.04| 11.2|10.79|10.86| 10.8|10.79| 10.8|10.61|10.58|10.5|10.36| 10.2|10.32| 9.6|9.14|9.13|9.22|9.33|9.16|8.32|8.15| 8.0|\n",
      "|              Belize| 4.98| 5.31| 4.81| 4.75| 4.62| 4.77| 4.65| 4.88| 4.44|4.36| 4.55|  4.5| 4.53|4.54|4.08|3.57|3.47|3.45|3.56|3.59|3.49|2.98|\n",
      "|               Benin| 2.58| 2.47| 2.51| 2.89| 2.67|  2.8| 2.73| 2.69| 2.87|3.08|  3.0| 3.01| 2.89|2.65|2.94|3.29|3.22|3.23|3.12| 3.1| 3.3|2.96|\n",
      "|              Bhutan| 3.85| 4.36|  3.6| 3.24| 3.34| 3.58| 3.76| 3.56| 3.71|3.62| 3.35| 3.56| 3.55|3.38|4.13|4.41|4.13| 4.6|4.13| 4.6| 5.0|4.45|\n",
      "|Bolivia (Plurinat...| 8.16| 8.02| 6.89|  6.6| 6.49| 6.83| 6.55|  5.9| 5.57|5.25| 5.17|  5.2| 5.17|4.61| 4.7|4.66|5.07|4.86| 5.2| 4.9|4.83| 4.4|\n",
      "+--------------------+-----+-----+-----+-----+-----+-----+-----+-----+-----+----+-----+-----+-----+----+----+----+----+----+----+----+----+----+\n",
      "only showing top 20 rows\n",
      "\n"
     ]
    }
   ],
   "source": [
    "df2_cleaned = df2.dropna()\n",
    "df2_cleaned.show()"
   ]
  },
  {
   "cell_type": "code",
   "execution_count": 11,
   "id": "36550a6a",
   "metadata": {},
   "outputs": [
    {
     "name": "stdout",
     "output_type": "stream",
     "text": [
      "Country: 0\n",
      "2021: 0\n",
      "2020: 0\n",
      "2019: 0\n",
      "2018: 0\n",
      "2017: 0\n",
      "2016: 0\n",
      "2015: 0\n",
      "2014: 0\n",
      "2013: 0\n",
      "2012: 0\n",
      "2011: 0\n",
      "2010: 0\n",
      "2009: 0\n",
      "2008: 0\n",
      "2007: 0\n",
      "2006: 0\n",
      "2005: 0\n",
      "2004: 0\n",
      "2003: 0\n",
      "2002: 0\n",
      "2001: 0\n",
      "2000: 0\n"
     ]
    }
   ],
   "source": [
    "null_counts = {}\n",
    "for column in df2_cleaned.columns:\n",
    "        null_count = df2_cleaned.filter(df2_cleaned[column].isNull()).count()\n",
    "        null_counts[column] = null_count\n",
    "for column, count in null_counts.items():\n",
    "    print(f\"{column}: {count}\")"
   ]
  },
  {
   "cell_type": "code",
   "execution_count": 12,
   "id": "003c479b",
   "metadata": {},
   "outputs": [
    {
     "name": "stdout",
     "output_type": "stream",
     "text": [
      "+--------------------+----+----+----+----+----+----+----+----+----+----+----+----+----+----+----+----+----+----+----+----+----+----+\n",
      "|             Country|2021|2020|2019|2018|2017|2016|2015|2014|2013|2012|2011|2010|2009|2008|2007|2006|2005|2004|2003|2002|2001|2000|\n",
      "+--------------------+----+----+----+----+----+----+----+----+----+----+----+----+----+----+----+----+----+----+----+----+----+----+\n",
      "|   Brunei Darussalam|99.0|99.0|99.0|99.0|99.0|99.0|99.0|99.0|99.0|99.0|96.0|95.0|99.0|99.0|96.0|99.0|94.0|99.0|95.0|95.0|99.0|99.0|\n",
      "|            Cambodia|92.0|94.0|95.0|90.0|99.0|99.0|99.0|98.0|96.0|99.0|98.0|95.0|96.0|98.0|90.0|87.0|87.0|95.0|76.0|63.0|64.0|81.0|\n",
      "|               China|99.0|99.0|99.0|99.0|99.0|99.0|99.0|99.0|99.0|99.0|99.0|99.0|99.0|97.0|94.0|92.0|86.0|86.0|85.0|85.0|85.0|84.0|\n",
      "|        Cook Islands|97.0|98.0|99.0|99.0|99.0|99.0|99.0|99.0|98.0|98.0|98.0|99.0|99.0|99.0|99.0|99.0|99.0|99.0|99.0|98.0|98.0|99.0|\n",
      "|Democratic People...|95.0|99.0|96.0|96.0|98.0|97.0|97.0|98.0|98.0|98.0|98.0|98.0|98.0|97.0|96.0|96.0|94.0|95.0|88.0|96.0|82.0|78.0|\n",
      "|                Fiji|99.0|99.0|97.0|96.0|94.0|93.0|91.0|90.0|99.0|99.0|99.0|99.0|99.0|99.0|99.0|99.0|98.0|98.0|97.0|97.0|97.0|96.0|\n",
      "|           Indonesia|81.0|87.0|90.0|92.0|93.0|90.0|90.0|90.0|90.0|88.0|98.0|88.0|78.0|80.0|83.0|88.0|86.0|85.0|83.0|82.0|80.0|81.0|\n",
      "|            Kiribati|96.0|93.0|92.0|90.0|89.0|79.0|79.0|72.0|86.0|95.0|86.0|87.0|76.0|83.0|90.0|91.0|93.0|94.0|91.0|88.0|85.0|80.0|\n",
      "|Lao People's Demo...|80.0|90.0|85.0|92.0|91.0|89.0|89.0|89.0|87.0|85.0|78.0|72.0|67.0|68.0|56.0|61.0|65.0|60.0|65.0|65.0|60.0|69.0|\n",
      "|            Malaysia|99.0|99.0|99.0|98.0|99.0|98.0|99.0|99.0|99.0|99.0|99.0|99.0|99.0|99.0|99.0|98.0|98.0|99.0|99.0|98.0|98.0|99.0|\n",
      "|    Marshall Islands|83.0|91.0|89.0|98.0|92.0|94.0|99.0|89.0|93.0|97.0|80.0|99.0|98.0|95.0|92.0|92.0|93.0|91.0|93.0|90.0|99.0|89.0|\n",
      "|Micronesia (Feder...|59.0|84.0|77.0|80.0|83.0|85.0|76.0|73.0|70.0|78.0|75.0|70.0|75.0|79.0|82.0|55.0|70.0|62.0|64.0|52.0|39.0|24.0|\n",
      "|            Mongolia|99.0|99.0|99.0|99.0|99.0|99.0|99.0|99.0|99.0|99.0|99.0|99.0|98.0|98.0|99.0|98.0|99.0|98.0|98.0|98.0|98.0|97.0|\n",
      "|             Myanmar|48.0|87.0|91.0|90.0|91.0|88.0|94.0|92.0|86.0|87.0|93.0|93.0|93.0|88.0|89.0|85.0|76.0|85.0|80.0|82.0|75.0|88.0|\n",
      "|               Nauru|99.0|99.0|99.0|99.0|99.0|99.0|99.0|99.0|99.0|99.0|99.0|99.0|99.0|99.0|99.0|99.0|90.0|93.0|97.0|99.0|99.0|93.0|\n",
      "|                Niue|88.0|94.0|99.0|99.0|99.0|92.0|99.0|99.0|99.0|99.0|99.0|99.0|99.0|99.0|99.0|99.0|97.0|96.0|99.0|99.0|99.0|99.0|\n",
      "|    Papua New Guinea|42.0|52.0|45.0|52.0|62.0|72.0|67.0|84.0|93.0|91.0|91.0|88.0|89.0|80.0|81.0|90.0|90.0|89.0|89.0|84.0|81.0|88.0|\n",
      "|         Philippines|47.0|64.0|70.0|77.0|83.0|90.0|85.0|88.0|92.0|95.0|94.0|93.0|92.0|91.0|90.0|91.0|91.0|91.0|86.0|85.0|92.0|92.0|\n",
      "|   Republic of Korea|98.0|98.0|98.0|98.0|98.0|98.0|97.0|99.0|99.0|99.0|99.0|96.0|96.0|96.0|96.0|98.0|97.0|93.0|87.0|89.0|81.0|73.0|\n",
      "|               Samoa|92.0|99.0|96.0|68.0|89.0|81.0|86.0|92.0|90.0|90.0|95.0|87.0|92.0|98.0|91.0|84.0|86.0|93.0|73.0|98.0|98.0|97.0|\n",
      "+--------------------+----+----+----+----+----+----+----+----+----+----+----+----+----+----+----+----+----+----+----+----+----+----+\n",
      "only showing top 20 rows\n",
      "\n"
     ]
    },
    {
     "data": {
      "text/plain": [
       "DataFrame[summary: string, Country: string, 2021: string, 2020: string, 2019: string, 2018: string, 2017: string, 2016: string, 2015: string, 2014: string, 2013: string, 2012: string, 2011: string, 2010: string, 2009: string, 2008: string, 2007: string, 2006: string, 2005: string, 2004: string, 2003: string, 2002: string, 2001: string, 2000: string]"
      ]
     },
     "execution_count": 12,
     "metadata": {},
     "output_type": "execute_result"
    }
   ],
   "source": [
    "df1_filtered = df1.filter(df1_cleaned.unicef_region == \"EAPR\")\n",
    "selected_column = [\"Country\"] + [str(year) for year in range(2021, 1999, -1)]\n",
    "df1_final = df1_filtered.select(selected_column)\n",
    "df1_final.show()\n",
    "df1_final.describe()"
   ]
  },
  {
   "cell_type": "code",
   "execution_count": 13,
   "id": "781a3d68",
   "metadata": {
    "scrolled": true
   },
   "outputs": [
    {
     "name": "stdout",
     "output_type": "stream",
     "text": [
      "+--------------------+-----+-----+-----+-----+-----+-----+-----+-----+-----+-----+-----+-----+-----+-----+-----+-----+-----+-----+-----+-----+-----+-----+\n",
      "|             Country| 2021| 2020| 2019| 2018| 2017| 2016| 2015| 2014| 2013| 2012| 2011| 2010| 2009| 2008| 2007| 2006| 2005| 2004| 2003| 2002| 2001| 2000|\n",
      "+--------------------+-----+-----+-----+-----+-----+-----+-----+-----+-----+-----+-----+-----+-----+-----+-----+-----+-----+-----+-----+-----+-----+-----+\n",
      "|   Brunei Darussalam|  2.2| 2.39| 2.19| 2.41| 2.27| 2.55| 2.39| 1.91|  1.9| 1.85| 1.86| 2.28| 2.39| 1.88| 1.94| 1.91| 2.23| 2.55|  2.6| 2.53| 2.55| 2.55|\n",
      "|            Cambodia| 7.53| 7.11| 6.85| 6.07| 5.65| 6.12| 6.19|  6.7|  7.1| 7.26|  7.5| 6.91| 7.58|  6.6| 4.91| 6.12| 6.85| 7.08| 6.94| 7.23| 7.01| 6.54|\n",
      "|               China| 5.38| 5.59| 5.35| 5.17| 5.07| 4.98| 4.94| 4.78| 4.71| 4.57| 4.34| 4.23| 4.35|  3.9| 3.67| 3.95| 4.18| 4.29| 4.42| 4.38| 4.25| 4.51|\n",
      "|        Cook Islands| 3.82| 3.65| 2.76| 2.65|  2.8| 2.99| 2.87| 3.29| 3.29| 3.11| 3.52| 3.63| 3.47| 3.43| 3.72| 3.47| 3.91| 3.41|  3.2| 3.44| 3.26| 3.04|\n",
      "|                Fiji| 5.38| 4.77| 4.25| 4.11| 3.19| 3.28| 3.32| 3.37|  3.2| 3.27| 3.14| 3.42| 3.54| 3.18| 3.42| 3.35| 3.26| 3.26| 2.97| 2.98| 2.91| 3.42|\n",
      "|           Indonesia| 3.71| 3.42| 2.88| 2.87|  2.9| 3.02| 2.92| 2.96| 2.87| 2.91| 2.99| 2.79| 2.62| 2.55| 2.82| 2.62| 2.53| 2.12| 2.25| 1.98| 2.12| 1.85|\n",
      "|            Kiribati|14.81|16.99|12.59|12.97|11.46|10.47| 8.11|10.09| 9.53| 8.69| 8.67| 9.34|13.49|14.05|11.34|11.53|11.52|12.43| 10.7|11.87| 12.3| 8.65|\n",
      "|Lao People's Demo...| 2.74| 2.06|  2.6| 2.25| 2.53| 2.36| 2.45|  2.3|  2.4| 2.08| 1.94| 2.91| 3.46| 2.77| 3.15| 2.93| 3.34| 3.54| 4.48|  3.7| 4.29| 4.28|\n",
      "|            Malaysia| 4.38| 4.08| 3.84| 3.76| 3.71|  3.7| 3.82| 3.71| 3.51| 3.46| 3.31| 3.16| 3.26| 3.01| 3.07| 3.11| 2.79| 2.86| 2.92| 2.67| 2.68| 2.51|\n",
      "|    Marshall Islands|12.55|12.59|14.83|15.26|14.39|15.74|15.34|13.21|13.47|13.04|13.09|13.93|14.54| 15.2|16.27|20.33|20.22|15.62|12.77|12.84|14.82|17.48|\n",
      "|Micronesia (Feder...|10.96|10.85|11.26|11.66| 12.2|13.13|12.46|11.72| 12.1|12.28| 13.1|13.11|12.55|11.99|11.06|10.74|17.73|12.03| 9.57|  7.9| 8.45| 7.77|\n",
      "|            Mongolia| 6.91| 4.67| 4.49| 4.53| 4.34| 4.58| 4.23| 4.21| 4.09| 3.86| 3.59| 3.74| 4.46| 4.56| 4.08| 3.75| 3.76| 4.16|  4.1| 5.19| 5.05|  5.7|\n",
      "|             Myanmar| 5.63| 4.62| 4.71|  4.9| 5.08| 5.11| 5.48| 4.39|  3.2| 2.41| 1.93| 1.96| 2.16| 2.11| 2.02| 2.25| 2.33| 2.32| 2.38| 2.58| 2.15|  2.0|\n",
      "|               Nauru|13.06|12.68|11.56| 11.1|11.49|10.99|14.01| 8.39| 9.85| 8.84| 9.96| 12.7|12.32| 23.0|24.23|12.42|10.82| 6.88| 9.97|13.81|16.22|18.97|\n",
      "|                Niue|13.76| 8.97| 7.28|  8.0| 8.51| 7.75| 8.75|10.83| 9.71|10.31|19.83|15.54|28.82|23.26|23.61|50.18| 12.3|17.34| 9.53|11.11|38.14| 7.93|\n",
      "|    Papua New Guinea| 2.32|  2.3| 2.33|  2.3| 2.23| 2.33| 1.82| 3.27|  3.0| 2.67| 2.29| 2.11| 2.33| 2.14| 2.42| 2.43| 2.45| 2.59| 2.45| 2.78|  2.3| 2.02|\n",
      "|         Philippines| 5.87| 5.16| 4.17| 3.95| 3.96| 3.95|  3.9|  3.7| 4.27| 4.18| 4.03| 4.13| 4.16| 3.86| 3.75| 3.78| 3.74| 3.05| 3.08| 2.64| 2.85| 3.06|\n",
      "|   Republic of Korea| 9.33| 8.35| 8.17| 7.49| 7.05| 6.87| 6.59|  6.4| 6.15| 6.03| 5.91| 5.82| 5.66| 5.25| 4.95| 4.85| 4.55| 4.27| 4.28| 4.01|  4.3| 3.86|\n",
      "|               Samoa|  6.8| 6.19| 5.64| 4.77| 5.16| 5.63| 6.21| 6.25| 6.21| 4.99| 5.38| 5.15| 5.13| 4.53| 4.74| 4.88| 4.63| 4.53| 4.17| 4.49| 3.82| 4.28|\n",
      "|           Singapore| 5.57| 5.71|  4.4| 4.08| 4.36| 4.39| 4.18| 3.87| 3.69| 3.33| 3.16|  3.2|  3.4| 3.19| 2.84| 2.93| 3.03| 3.15| 3.61| 3.36| 3.16| 3.34|\n",
      "+--------------------+-----+-----+-----+-----+-----+-----+-----+-----+-----+-----+-----+-----+-----+-----+-----+-----+-----+-----+-----+-----+-----+-----+\n",
      "only showing top 20 rows\n",
      "\n"
     ]
    }
   ],
   "source": [
    "df2_join = df2_cleaned.join(df1_final.select(\"Country\"), on=\"Country\", how=\"inner\")\n",
    "\n",
    "for year in range(2021, 2000, -1):\n",
    "    df2_join = df2_join.withColumn(str(year), col(str(year)).cast(\"float\"))\n",
    "df2_join.show()\n"
   ]
  },
  {
   "cell_type": "code",
   "execution_count": 14,
   "id": "00cacbcd",
   "metadata": {},
   "outputs": [
    {
     "name": "stdout",
     "output_type": "stream",
     "text": [
      "root\n",
      " |-- Countries: string (nullable = true)\n",
      " |-- Brunei Darussalam: float (nullable = true)\n",
      " |-- Cambodia: float (nullable = true)\n",
      " |-- China: float (nullable = true)\n",
      " |-- Cook Islands: float (nullable = true)\n",
      " |-- Democratic People's Republic of Korea: float (nullable = true)\n",
      " |-- Fiji: float (nullable = true)\n",
      " |-- Indonesia: float (nullable = true)\n",
      " |-- Kiribati: float (nullable = true)\n",
      " |-- Lao People's Democratic Republic: float (nullable = true)\n",
      " |-- Malaysia: float (nullable = true)\n",
      " |-- Marshall Islands: float (nullable = true)\n",
      " |-- Micronesia: float (nullable = true)\n",
      " |-- Mongolia: float (nullable = true)\n",
      " |-- Myanmar: float (nullable = true)\n",
      " |-- Nauru: float (nullable = true)\n",
      " |-- Niue: float (nullable = true)\n",
      " |-- Papua New Guinea: float (nullable = true)\n",
      " |-- Philippines: float (nullable = true)\n",
      " |-- Republic of Korea: float (nullable = true)\n",
      " |-- Samoa: float (nullable = true)\n",
      " |-- Singapore: float (nullable = true)\n",
      " |-- Solomon Islands: float (nullable = true)\n",
      " |-- Thailand: float (nullable = true)\n",
      " |-- Timor-Leste: float (nullable = true)\n",
      " |-- Tonga: float (nullable = true)\n",
      " |-- Tuvalu: float (nullable = true)\n",
      " |-- Vanuatu: float (nullable = true)\n",
      " |-- Viet Nam: float (nullable = true)\n",
      "\n",
      "+---------+-----------------+--------+-----+------------+-------------------------------------+-----+---------+--------+--------------------------------+--------+----------------+----------+--------+-------+-----+-----+----------------+-----------+-----------------+-----+---------+---------------+--------+-----------+-----+------+-------+--------+\n",
      "|Countries|Brunei Darussalam|Cambodia|China|Cook Islands|Democratic People's Republic of Korea| Fiji|Indonesia|Kiribati|Lao People's Democratic Republic|Malaysia|Marshall Islands|Micronesia|Mongolia|Myanmar|Nauru| Niue|Papua New Guinea|Philippines|Republic of Korea|Samoa|Singapore|Solomon Islands|Thailand|Timor-Leste|Tonga|Tuvalu|Vanuatu|Viet Nam|\n",
      "+---------+-----------------+--------+-----+------------+-------------------------------------+-----+---------+--------+--------------------------------+--------+----------------+----------+--------+-------+-----+-----+----------------+-----------+-----------------+-----+---------+---------------+--------+-----------+-----+------+-------+--------+\n",
      "|     2021|            96.57|   87.14|98.43|       86.43|                                51.43| 99.0|    71.29|   90.71|                           75.14|   96.57|            88.0|     72.29|   96.43|  37.14|98.43|96.86|           33.57|      52.86|            97.14|84.14|    96.86|          82.71|   97.71|      83.43| 99.0|  95.0|  64.14|    84.0|\n",
      "|     2020|            96.43|   88.71|98.43|       92.43|                                94.14|98.57|    78.43|   91.43|                           78.57|   98.14|            89.0|     82.57|   97.29|  77.14|97.14|98.14|           41.43|      68.14|            97.29| 89.0|    96.43|          87.29|   97.71|      83.43| 99.0| 95.43|  75.71|   91.14|\n",
      "|     2019|            98.67|   89.14|98.57|       98.57|                                97.43|96.86|    86.71|   95.71|                           78.86|   98.14|           86.71|     80.29|   98.29|  79.29|97.14| 99.0|            37.0|      71.14|            97.14|81.57|    96.14|          86.29|   97.71|      87.14| 99.0| 95.43|  89.29|   90.43|\n",
      "|     2018|             99.0|   86.14|98.57|        99.0|                                97.71|94.86|    83.71|   92.57|                           82.86|   98.14|           88.14|     79.71|   98.86|  79.71|95.14|92.57|           38.57|       73.0|             97.0|52.29|    96.71|          83.29|   97.71|      82.71| 99.0| 93.14|  85.43|   83.43|\n",
      "|     2017|            98.67|    89.0|98.57|       98.86|                                 98.0|93.86|    80.43|    89.0|                           82.14|   97.14|           87.14|     79.43|   98.86|  76.57|93.29|96.86|           40.86|      76.43|            96.86|73.43|    95.86|          80.29|    99.0|       82.0| 99.0| 97.14|   85.0|    93.0|\n",
      "|     2016|            98.83|   90.43|98.57|       97.71|                                97.43|95.14|    86.83|   80.57|                            84.5|   96.14|           81.14|     77.57|   98.71|  90.33| 98.0|96.43|            51.0|      79.71|            97.14|77.86|     96.0|          86.43|    99.0|      74.86| 95.0| 96.43|  85.83|   92.14|\n",
      "|     2015|             98.5|   90.86|98.57|        99.0|                                97.14|97.57|    86.67|   79.86|                            84.5|   96.57|            89.0|     77.29|   98.57|  89.83|95.29| 98.0|           52.43|      74.71|            97.86|79.29|     93.0|          81.57|    99.0|       76.0|95.57| 96.86|   83.5|   93.29|\n",
      "|     2014|            98.67|    91.0|98.29|       98.86|                                96.43|97.71|    89.17|   76.86|                            84.5|   95.71|           83.71|     79.86|   98.57|  89.33|97.14|98.57|           56.43|       77.0|             98.0| 81.0|    92.57|          76.29|    99.0|      77.33|98.57|  94.0|   88.5|   89.86|\n",
      "|     2013|            98.33|    82.0| 99.0|       97.86|                                96.43|98.29|    91.67|    91.0|                           82.83|   95.71|           85.57|     81.86|   97.86|  81.33|93.57| 99.0|           64.86|      78.86|             99.0|85.29|     93.0|          79.29|    99.0|       81.5| 99.0| 94.43|  85.67|   77.57|\n",
      "|     2012|            96.33|   88.43|98.57|       97.71|                                97.71|98.86|    86.67|   91.71|                            78.0|   96.43|           86.86|     84.43|   98.71|   81.5|89.86| 99.0|           63.86|      81.14|             99.0|83.29|    92.86|          85.57|   98.67|       82.0| 95.0|  98.0|  83.17|   94.29|\n",
      "|     2011|            95.33|   88.86|98.43|       94.43|                                96.86|98.57|    84.83|    90.0|                           76.17|   96.43|            88.0|     84.86|   98.43|   80.5| 99.0| 99.0|           61.29|      81.71|            98.83|81.14|    92.57|           87.0|   98.67|       68.5| 99.0| 97.43|   80.5|   90.29|\n",
      "|     2010|            96.17|   86.43| 98.0|        99.0|                                96.43|98.14|     83.5|   87.57|                            73.5|   96.43|           97.14|     82.57|   96.71|   91.0| 99.0|92.71|           60.43|      81.57|             95.5|76.57|    92.71|          81.57|   98.67|      72.83| 99.0| 92.71|   78.0|    83.0|\n",
      "|     2009|             98.5|   88.57|98.14|       88.71|                                 96.0|98.14|    80.83|   79.43|                           67.17|   96.86|           95.43|     86.71|   96.14|  90.67| 99.0| 99.0|           64.14|      81.43|            94.67|66.86|     93.0|          83.86|   98.67|      73.83| 99.0| 92.71|  75.17|   88.29|\n",
      "|     2008|             98.0|   85.43|96.43|       98.43|                                95.29|97.71|     81.0|   78.57|                            62.5|   97.57|           95.29|     85.86|   96.29|   85.5| 99.0| 99.0|           59.57|      79.14|            93.83| 56.0|    93.43|          84.29|   98.67|       80.0|98.86| 98.14|  72.83|   82.71|\n",
      "|     2007|            97.17|   74.86|93.14|       98.86|                                95.29|97.71|    78.33|    89.0|                           50.17|   96.14|           94.43|     84.86|   97.29|  85.67| 99.0| 99.0|           63.71|      77.43|            92.67|72.86|    93.43|          90.14|   97.67|       70.6| 99.0| 97.57|   70.0|   78.14|\n",
      "|     2006|             97.5|   81.67|92.86|        99.0|                                94.29| 97.0|    78.17|   82.57|                           57.83|   95.14|           91.86|     77.57|   98.43|  81.33|93.71|94.86|           70.57|      87.67|            98.33|60.14|    92.57|          96.43|   97.67|       66.2| 99.0|  96.0|   67.5|   93.83|\n",
      "|     2005|            96.17|    83.0|87.29|        99.0|                                90.71| 96.0|    77.33|   77.71|                           53.67|   95.71|           88.71|     90.86|   97.14|  76.17|85.43|79.57|           74.67|      83.67|             97.5|65.43|    93.14|          88.29|   97.67|       58.4| 99.0|  90.0|  68.17|   95.17|\n",
      "|     2004|            96.67|    87.6|85.14|        99.0|                                90.43|94.86|     76.5|   69.57|                           49.67|   95.86|           76.43|     78.71|   98.57|  78.33| 82.0|87.43|           71.33|      82.67|            92.83|59.14|    92.29|          87.86|   97.67|       61.2| 99.0| 97.14|   69.0|   96.17|\n",
      "|     2003|             97.0|    70.6| 85.5|       96.71|                                67.86|95.43|     76.0|   76.71|                            55.0|   95.29|           84.86|     85.71|   98.14|  68.67|80.71|95.43|           75.17|       80.0|            93.67|83.71|    93.14|          83.43|   97.67|       60.4|97.86| 94.86|  69.67|   93.67|\n",
      "|     2002|             97.5|    56.6| 84.5|       96.86|                                 84.4|94.86|     75.0|   83.71|                            58.4|   94.71|           85.57|     79.14|   98.14|   80.6|78.71| 99.0|           68.83|      74.83|            95.17|93.86|     95.5|          78.71|    96.5|       58.2|93.57| 96.43|  70.67|    89.0|\n",
      "+---------+-----------------+--------+-----+------------+-------------------------------------+-----+---------+--------+--------------------------------+--------+----------------+----------+--------+-------+-----+-----+----------------+-----------+-----------------+-----+---------+---------------+--------+-----------+-----+------+-------+--------+\n",
      "only showing top 20 rows\n",
      "\n"
     ]
    }
   ],
   "source": [
    "df_vac = spark.read.csv('new_vac.csv', header=True, inferSchema=False)\n",
    "columns = df_vac.columns[1:]\n",
    "for column in columns:\n",
    "    df_vac = df_vac.withColumn(column, col(column).cast(\"float\"))\n",
    "df_vac.printSchema()\n",
    "df_vac.show()"
   ]
  },
  {
   "cell_type": "code",
   "execution_count": 15,
   "id": "79fe2ad6",
   "metadata": {
    "scrolled": true
   },
   "outputs": [
    {
     "name": "stdout",
     "output_type": "stream",
     "text": [
      "+---------+-----------------+--------+-----+------------+-------------------------------------+----+---------+--------+--------------------------------+--------+----------------+--------------------------------+--------+-------+-----+-----+----------------+-----------+-----------------+-----+---------+---------------+--------+-----------+-----+------+-------+--------+\n",
      "|Countries|Brunei Darussalam|Cambodia|China|Cook Islands|Democratic People's Republic of Korea|Fiji|Indonesia|Kiribati|Lao People's Democratic Republic|Malaysia|Marshall Islands|Micronesia (Federated States of)|Mongolia|Myanmar|Nauru| Niue|Papua New Guinea|Philippines|Republic of Korea|Samoa|Singapore|Solomon Islands|Thailand|Timor-Leste|Tonga|Tuvalu|Vanuatu|Viet Nam|\n",
      "+---------+-----------------+--------+-----+------------+-------------------------------------+----+---------+--------+--------------------------------+--------+----------------+--------------------------------+--------+-------+-----+-----+----------------+-----------+-----------------+-----+---------+---------------+--------+-----------+-----+------+-------+--------+\n",
      "|     2021|              2.2|    7.53| 5.38|        3.82|                                  5.0|5.38|     3.71|   14.81|                            2.74|    4.38|           12.55|                           10.96|    6.91|   5.63|13.06|13.76|            2.32|       5.87|             9.33|  6.8|     5.57|           4.76|    5.16|      11.44| 6.27| 19.97|   4.37|    4.59|\n",
      "|     2020|             2.39|    7.11| 5.59|        3.65|                                  5.0|4.77|     3.42|   16.99|                            2.06|    4.08|           12.59|                           10.85|    4.67|   4.62|12.68| 8.97|             2.3|       5.16|             8.35| 6.19|     5.71|            4.8|    4.36|       9.96| 5.33| 18.86|   3.99|     4.3|\n",
      "|     2019|             2.19|    6.85| 5.35|        2.76|                                  5.0|4.25|     2.88|   12.59|                             2.6|    3.84|           14.83|                           11.26|    4.49|   4.71|11.56| 7.28|            2.33|       4.17|             8.17| 5.64|      4.4|           4.32|    3.79|       6.03| 4.75| 22.41|   3.31|    4.97|\n",
      "|     2018|             2.41|    6.07| 5.17|        2.65|                                  5.0|4.11|     2.87|   12.97|                            2.25|    3.76|           15.26|                           11.66|    4.53|    4.9| 11.1|  8.0|             2.3|       3.95|             7.49| 4.77|     4.08|           3.77|    3.87|       6.37| 4.81| 18.64|   3.32|    5.03|\n",
      "|     2017|             2.27|    5.65| 5.07|         2.8|                                  5.0|3.19|      2.9|   11.46|                            2.53|    3.71|           14.39|                            12.2|    4.34|   5.08|11.49| 8.51|            2.23|       3.96|             7.05| 5.16|     4.36|           4.15|    3.85|       6.76| 4.86| 24.28|   2.76|    4.99|\n",
      "|     2016|             2.55|    6.12| 4.98|        2.99|                                  5.0|3.28|     3.02|   10.47|                            2.36|     3.7|           15.74|                           13.13|    4.58|   5.11|10.99| 7.75|            2.33|       3.95|             6.87| 5.63|     4.39|            4.4|    3.94|        6.9| 4.82| 18.62|   2.93|    4.87|\n",
      "|     2015|             2.39|    6.19| 4.94|        2.87|                                  5.0|3.32|     2.92|    8.11|                            2.45|    3.82|           15.34|                           12.46|    4.23|   5.48|14.01| 8.75|            1.82|        3.9|             6.59| 6.21|     4.18|           4.45|    3.85|       7.67| 4.47| 13.53|   4.32|    4.71|\n",
      "|     2014|             1.91|     6.7| 4.78|        3.29|                                  5.0|3.37|     2.96|   10.09|                             2.3|    3.71|           13.21|                           11.72|    4.21|   4.39| 8.39|10.83|            3.27|        3.7|              6.4| 6.25|     3.87|           4.89|    3.68|        7.6| 5.01| 14.69|   3.65|    4.69|\n",
      "|     2013|              1.9|     7.1| 4.71|        3.29|                                  5.0| 3.2|     2.87|    9.53|                             2.4|    3.51|           13.47|                            12.1|    4.09|    3.2| 9.85| 9.71|             3.0|       4.27|             6.15| 6.21|     3.69|           4.58|    3.45|       8.53| 3.98| 14.34|   4.39|    4.41|\n",
      "|     2012|             1.85|    7.26| 4.57|        3.11|                                  5.0|3.27|     2.91|    8.69|                            2.08|    3.46|           13.04|                           12.28|    3.86|   2.41| 8.84|10.31|            2.67|       4.18|             6.03| 4.99|     3.33|           4.87|    3.52|       6.99|  4.8|  13.6|   3.94|     5.0|\n",
      "|     2011|             1.86|     7.5| 4.34|        3.52|                                  5.0|3.14|     2.99|    8.67|                            1.94|    3.31|           13.09|                            13.1|    3.59|   1.93| 9.96|19.83|            2.29|       4.03|             5.91| 5.38|     3.16|           5.02|    3.57|       6.87| 3.82|  14.1|    3.6|    4.97|\n",
      "|     2010|             2.28|    6.91| 4.23|        3.63|                                  5.0|3.42|     2.79|    9.34|                            2.91|    3.16|           13.93|                           13.11|    3.74|   1.96| 12.7|15.54|            2.11|       4.13|             5.82| 5.15|      3.2|           4.66|    3.39|       6.47| 4.82| 15.65|   3.53|    5.07|\n",
      "|     2009|             2.39|    7.58| 4.35|        3.47|                                  5.0|3.54|     2.62|   13.49|                            3.46|    3.26|           14.54|                           12.55|    4.46|   2.16|12.32|28.82|            2.33|       4.16|             5.66| 5.13|      3.4|           6.61|    3.62|       7.31| 3.93| 12.27|   3.25|    4.49|\n",
      "|     2008|             1.88|     6.6|  3.9|        3.43|                                  5.0|3.18|     2.55|   14.05|                            2.77|    3.01|            15.2|                           11.99|    4.56|   2.11| 23.0|23.26|            2.14|       3.86|             5.25| 4.53|     3.19|           5.51|    3.46|       6.97| 6.06| 10.12|   3.14|    4.36|\n",
      "|     2007|             1.94|    4.91| 3.67|        3.72|                                  5.0|3.42|     2.82|   11.34|                            3.15|    3.07|           16.27|                           11.06|    4.08|   2.02|24.23|23.61|            2.42|       3.75|             4.95| 4.74|     2.84|           7.18|    3.19|       5.65| 4.73| 10.52|   3.11|    4.63|\n",
      "|     2006|             1.91|    6.12| 3.95|        3.47|                                  5.0|3.35|     2.62|   11.53|                            2.93|    3.11|           20.33|                           10.74|    3.75|   2.25|12.42|50.18|            2.43|       3.78|             4.85| 4.88|     2.93|           8.01|     3.1|        6.0| 5.47| 12.27|   3.32|    4.57|\n",
      "|     2005|             2.23|    6.85| 4.18|        3.91|                                  5.0|3.26|     2.53|   11.52|                            3.34|    2.79|           20.22|                           17.73|    3.76|   2.33|10.82| 12.3|            2.45|       3.74|             4.55| 4.63|     3.03|           9.02|    3.16|       5.28| 4.39| 10.56|   3.31|    4.32|\n",
      "|     2004|             2.55|    7.08| 4.29|        3.41|                                  5.0|3.26|     2.12|   12.43|                            3.54|    2.86|           15.62|                           12.03|    4.16|   2.32| 6.88|17.34|            2.59|       3.05|             4.27| 4.53|     3.15|           7.72|    3.14|       4.26| 4.51|  9.89|   3.54|    4.09|\n",
      "|     2003|              2.6|    6.94| 4.42|         3.2|                                  5.0|2.97|     2.25|    10.7|                            4.48|    2.92|           12.77|                            9.57|     4.1|   2.38| 9.97| 9.53|            2.45|       3.08|             4.28| 4.17|     3.61|           7.08|    3.24|       2.84| 3.44| 14.39|   3.51|    3.94|\n",
      "|     2002|             2.53|    7.23| 4.38|        3.44|                                  5.0|2.98|     1.98|   11.87|                             3.7|    2.67|           12.84|                             7.9|    5.19|   2.58|13.81|11.11|            2.78|       2.64|             4.01| 4.49|     3.36|           10.1|    3.33|       2.84| 3.59| 12.43|    3.9|    3.87|\n",
      "+---------+-----------------+--------+-----+------------+-------------------------------------+----+---------+--------+--------------------------------+--------+----------------+--------------------------------+--------+-------+-----+-----+----------------+-----------+-----------------+-----+---------+---------------+--------+-----------+-----+------+-------+--------+\n",
      "only showing top 20 rows\n",
      "\n"
     ]
    }
   ],
   "source": [
    "df_exp = spark.read.csv('new_exp.csv', header=True, inferSchema=False)\n",
    "columns = df_exp.columns[1:]\n",
    "for column in columns:\n",
    "    df_exp = df_exp.withColumn(column, col(column).cast(\"float\"))\n",
    "\n",
    "df_exp.show()\n",
    "\n"
   ]
  },
  {
   "cell_type": "markdown",
   "id": "b7600cd2",
   "metadata": {},
   "source": [
    "# 3.4- Integration must take place. This includes effectively merging data from various sources. "
   ]
  },
  {
   "cell_type": "code",
   "execution_count": 16,
   "id": "6d9be9bb",
   "metadata": {},
   "outputs": [
    {
     "name": "stdout",
     "output_type": "stream",
     "text": [
      "+---------+-----------------+--------+-----+------------+-------------------------------------+----+---------+--------+--------------------------------+--------+----------------+--------------------------------+--------+-------+-----+-----+----------------+-----------+-----------------+-----+---------+---------------+--------+-----------+-----+------+-------+--------+------------------+---------+------+-------------+--------------------------------------+-----+----------+---------+---------------------------------+---------+-----------------+-----------+---------+--------+------+-----+-----------------+------------+------------------+------+----------+----------------+---------+------------+------+-------+--------+---------+\n",
      "|Countries|Brunei Darussalam|Cambodia|China|Cook Islands|Democratic People's Republic of Korea|Fiji|Indonesia|Kiribati|Lao People's Democratic Republic|Malaysia|Marshall Islands|Micronesia (Federated States of)|Mongolia|Myanmar|Nauru| Niue|Papua New Guinea|Philippines|Republic of Korea|Samoa|Singapore|Solomon Islands|Thailand|Timor-Leste|Tonga|Tuvalu|Vanuatu|Viet Nam|Brunei Darussalam1|Cambodia1|China1|Cook Islands1|Democratic People's Republic of Korea1|Fiji1|Indonesia1|Kiribati1|Lao People's Democratic Republic1|Malaysia1|Marshall Islands1|Micronesia1|Mongolia1|Myanmar1|Nauru1|Niue1|Papua New Guinea1|Philippines1|Republic of Korea1|Samoa1|Singapore1|Solomon Islands1|Thailand1|Timor-Leste1|Tonga1|Tuvalu1|Vanuatu1|Viet Nam1|\n",
      "+---------+-----------------+--------+-----+------------+-------------------------------------+----+---------+--------+--------------------------------+--------+----------------+--------------------------------+--------+-------+-----+-----+----------------+-----------+-----------------+-----+---------+---------------+--------+-----------+-----+------+-------+--------+------------------+---------+------+-------------+--------------------------------------+-----+----------+---------+---------------------------------+---------+-----------------+-----------+---------+--------+------+-----+-----------------+------------+------------------+------+----------+----------------+---------+------------+------+-------+--------+---------+\n",
      "|     2001|             2.55|    7.01| 4.25|        3.26|                                  5.0|2.91|     2.12|    12.3|                            4.29|    2.68|           14.82|                            8.45|    5.05|   2.15|16.22|38.14|             2.3|       2.85|              4.3| 3.82|     3.16|           6.61|    3.03|       2.84| 3.43| 18.48|   3.39|     4.8|             98.67|     61.4| 83.67|        92.86|                                  79.4|93.86|      75.5|    83.14|                             55.2|    96.29|            77.29|       74.0|    95.86|    75.8| 97.14| 99.0|            64.83|        77.5|             93.17| 92.14|     96.17|           87.86|     96.5|        58.2| 95.29|  97.14|   71.17|     97.2|\n",
      "|     2002|             2.53|    7.23| 4.38|        3.44|                                  5.0|2.98|     1.98|   11.87|                             3.7|    2.67|           12.84|                             7.9|    5.19|   2.58|13.81|11.11|            2.78|       2.64|             4.01| 4.49|     3.36|           10.1|    3.33|       2.84| 3.59| 12.43|    3.9|    3.87|              97.5|     56.6|  84.5|        96.86|                                  84.4|94.86|      75.0|    83.71|                             58.4|    94.71|            85.57|      79.14|    98.14|    80.6| 78.71| 99.0|            68.83|       74.83|             95.17| 93.86|      95.5|           78.71|     96.5|        58.2| 93.57|  96.43|   70.67|     89.0|\n",
      "|     2003|              2.6|    6.94| 4.42|         3.2|                                  5.0|2.97|     2.25|    10.7|                            4.48|    2.92|           12.77|                            9.57|     4.1|   2.38| 9.97| 9.53|            2.45|       3.08|             4.28| 4.17|     3.61|           7.08|    3.24|       2.84| 3.44| 14.39|   3.51|    3.94|              97.0|     70.6|  85.5|        96.71|                                 67.86|95.43|      76.0|    76.71|                             55.0|    95.29|            84.86|      85.71|    98.14|   68.67| 80.71|95.43|            75.17|        80.0|             93.67| 83.71|     93.14|           83.43|    97.67|        60.4| 97.86|  94.86|   69.67|    93.67|\n",
      "|     2004|             2.55|    7.08| 4.29|        3.41|                                  5.0|3.26|     2.12|   12.43|                            3.54|    2.86|           15.62|                           12.03|    4.16|   2.32| 6.88|17.34|            2.59|       3.05|             4.27| 4.53|     3.15|           7.72|    3.14|       4.26| 4.51|  9.89|   3.54|    4.09|             96.67|     87.6| 85.14|         99.0|                                 90.43|94.86|      76.5|    69.57|                            49.67|    95.86|            76.43|      78.71|    98.57|   78.33|  82.0|87.43|            71.33|       82.67|             92.83| 59.14|     92.29|           87.86|    97.67|        61.2|  99.0|  97.14|    69.0|    96.17|\n",
      "|     2005|             2.23|    6.85| 4.18|        3.91|                                  5.0|3.26|     2.53|   11.52|                            3.34|    2.79|           20.22|                           17.73|    3.76|   2.33|10.82| 12.3|            2.45|       3.74|             4.55| 4.63|     3.03|           9.02|    3.16|       5.28| 4.39| 10.56|   3.31|    4.32|             96.17|     83.0| 87.29|         99.0|                                 90.71| 96.0|     77.33|    77.71|                            53.67|    95.71|            88.71|      90.86|    97.14|   76.17| 85.43|79.57|            74.67|       83.67|              97.5| 65.43|     93.14|           88.29|    97.67|        58.4|  99.0|   90.0|   68.17|    95.17|\n",
      "|     2006|             1.91|    6.12| 3.95|        3.47|                                  5.0|3.35|     2.62|   11.53|                            2.93|    3.11|           20.33|                           10.74|    3.75|   2.25|12.42|50.18|            2.43|       3.78|             4.85| 4.88|     2.93|           8.01|     3.1|        6.0| 5.47| 12.27|   3.32|    4.57|              97.5|    81.67| 92.86|         99.0|                                 94.29| 97.0|     78.17|    82.57|                            57.83|    95.14|            91.86|      77.57|    98.43|   81.33| 93.71|94.86|            70.57|       87.67|             98.33| 60.14|     92.57|           96.43|    97.67|        66.2|  99.0|   96.0|    67.5|    93.83|\n",
      "|     2007|             1.94|    4.91| 3.67|        3.72|                                  5.0|3.42|     2.82|   11.34|                            3.15|    3.07|           16.27|                           11.06|    4.08|   2.02|24.23|23.61|            2.42|       3.75|             4.95| 4.74|     2.84|           7.18|    3.19|       5.65| 4.73| 10.52|   3.11|    4.63|             97.17|    74.86| 93.14|        98.86|                                 95.29|97.71|     78.33|     89.0|                            50.17|    96.14|            94.43|      84.86|    97.29|   85.67|  99.0| 99.0|            63.71|       77.43|             92.67| 72.86|     93.43|           90.14|    97.67|        70.6|  99.0|  97.57|    70.0|    78.14|\n",
      "|     2008|             1.88|     6.6|  3.9|        3.43|                                  5.0|3.18|     2.55|   14.05|                            2.77|    3.01|            15.2|                           11.99|    4.56|   2.11| 23.0|23.26|            2.14|       3.86|             5.25| 4.53|     3.19|           5.51|    3.46|       6.97| 6.06| 10.12|   3.14|    4.36|              98.0|    85.43| 96.43|        98.43|                                 95.29|97.71|      81.0|    78.57|                             62.5|    97.57|            95.29|      85.86|    96.29|    85.5|  99.0| 99.0|            59.57|       79.14|             93.83|  56.0|     93.43|           84.29|    98.67|        80.0| 98.86|  98.14|   72.83|    82.71|\n",
      "|     2009|             2.39|    7.58| 4.35|        3.47|                                  5.0|3.54|     2.62|   13.49|                            3.46|    3.26|           14.54|                           12.55|    4.46|   2.16|12.32|28.82|            2.33|       4.16|             5.66| 5.13|      3.4|           6.61|    3.62|       7.31| 3.93| 12.27|   3.25|    4.49|              98.5|    88.57| 98.14|        88.71|                                  96.0|98.14|     80.83|    79.43|                            67.17|    96.86|            95.43|      86.71|    96.14|   90.67|  99.0| 99.0|            64.14|       81.43|             94.67| 66.86|      93.0|           83.86|    98.67|       73.83|  99.0|  92.71|   75.17|    88.29|\n",
      "|     2010|             2.28|    6.91| 4.23|        3.63|                                  5.0|3.42|     2.79|    9.34|                            2.91|    3.16|           13.93|                           13.11|    3.74|   1.96| 12.7|15.54|            2.11|       4.13|             5.82| 5.15|      3.2|           4.66|    3.39|       6.47| 4.82| 15.65|   3.53|    5.07|             96.17|    86.43|  98.0|         99.0|                                 96.43|98.14|      83.5|    87.57|                             73.5|    96.43|            97.14|      82.57|    96.71|    91.0|  99.0|92.71|            60.43|       81.57|              95.5| 76.57|     92.71|           81.57|    98.67|       72.83|  99.0|  92.71|    78.0|     83.0|\n",
      "|     2011|             1.86|     7.5| 4.34|        3.52|                                  5.0|3.14|     2.99|    8.67|                            1.94|    3.31|           13.09|                            13.1|    3.59|   1.93| 9.96|19.83|            2.29|       4.03|             5.91| 5.38|     3.16|           5.02|    3.57|       6.87| 3.82|  14.1|    3.6|    4.97|             95.33|    88.86| 98.43|        94.43|                                 96.86|98.57|     84.83|     90.0|                            76.17|    96.43|             88.0|      84.86|    98.43|    80.5|  99.0| 99.0|            61.29|       81.71|             98.83| 81.14|     92.57|            87.0|    98.67|        68.5|  99.0|  97.43|    80.5|    90.29|\n",
      "|     2012|             1.85|    7.26| 4.57|        3.11|                                  5.0|3.27|     2.91|    8.69|                            2.08|    3.46|           13.04|                           12.28|    3.86|   2.41| 8.84|10.31|            2.67|       4.18|             6.03| 4.99|     3.33|           4.87|    3.52|       6.99|  4.8|  13.6|   3.94|     5.0|             96.33|    88.43| 98.57|        97.71|                                 97.71|98.86|     86.67|    91.71|                             78.0|    96.43|            86.86|      84.43|    98.71|    81.5| 89.86| 99.0|            63.86|       81.14|              99.0| 83.29|     92.86|           85.57|    98.67|        82.0|  95.0|   98.0|   83.17|    94.29|\n",
      "|     2013|              1.9|     7.1| 4.71|        3.29|                                  5.0| 3.2|     2.87|    9.53|                             2.4|    3.51|           13.47|                            12.1|    4.09|    3.2| 9.85| 9.71|             3.0|       4.27|             6.15| 6.21|     3.69|           4.58|    3.45|       8.53| 3.98| 14.34|   4.39|    4.41|             98.33|     82.0|  99.0|        97.86|                                 96.43|98.29|     91.67|     91.0|                            82.83|    95.71|            85.57|      81.86|    97.86|   81.33| 93.57| 99.0|            64.86|       78.86|              99.0| 85.29|      93.0|           79.29|     99.0|        81.5|  99.0|  94.43|   85.67|    77.57|\n",
      "|     2014|             1.91|     6.7| 4.78|        3.29|                                  5.0|3.37|     2.96|   10.09|                             2.3|    3.71|           13.21|                           11.72|    4.21|   4.39| 8.39|10.83|            3.27|        3.7|              6.4| 6.25|     3.87|           4.89|    3.68|        7.6| 5.01| 14.69|   3.65|    4.69|             98.67|     91.0| 98.29|        98.86|                                 96.43|97.71|     89.17|    76.86|                             84.5|    95.71|            83.71|      79.86|    98.57|   89.33| 97.14|98.57|            56.43|        77.0|              98.0|  81.0|     92.57|           76.29|     99.0|       77.33| 98.57|   94.0|    88.5|    89.86|\n",
      "|     2015|             2.39|    6.19| 4.94|        2.87|                                  5.0|3.32|     2.92|    8.11|                            2.45|    3.82|           15.34|                           12.46|    4.23|   5.48|14.01| 8.75|            1.82|        3.9|             6.59| 6.21|     4.18|           4.45|    3.85|       7.67| 4.47| 13.53|   4.32|    4.71|              98.5|    90.86| 98.57|         99.0|                                 97.14|97.57|     86.67|    79.86|                             84.5|    96.57|             89.0|      77.29|    98.57|   89.83| 95.29| 98.0|            52.43|       74.71|             97.86| 79.29|      93.0|           81.57|     99.0|        76.0| 95.57|  96.86|    83.5|    93.29|\n",
      "|     2016|             2.55|    6.12| 4.98|        2.99|                                  5.0|3.28|     3.02|   10.47|                            2.36|     3.7|           15.74|                           13.13|    4.58|   5.11|10.99| 7.75|            2.33|       3.95|             6.87| 5.63|     4.39|            4.4|    3.94|        6.9| 4.82| 18.62|   2.93|    4.87|             98.83|    90.43| 98.57|        97.71|                                 97.43|95.14|     86.83|    80.57|                             84.5|    96.14|            81.14|      77.57|    98.71|   90.33|  98.0|96.43|             51.0|       79.71|             97.14| 77.86|      96.0|           86.43|     99.0|       74.86|  95.0|  96.43|   85.83|    92.14|\n",
      "|     2017|             2.27|    5.65| 5.07|         2.8|                                  5.0|3.19|      2.9|   11.46|                            2.53|    3.71|           14.39|                            12.2|    4.34|   5.08|11.49| 8.51|            2.23|       3.96|             7.05| 5.16|     4.36|           4.15|    3.85|       6.76| 4.86| 24.28|   2.76|    4.99|             98.67|     89.0| 98.57|        98.86|                                  98.0|93.86|     80.43|     89.0|                            82.14|    97.14|            87.14|      79.43|    98.86|   76.57| 93.29|96.86|            40.86|       76.43|             96.86| 73.43|     95.86|           80.29|     99.0|        82.0|  99.0|  97.14|    85.0|     93.0|\n",
      "|     2018|             2.41|    6.07| 5.17|        2.65|                                  5.0|4.11|     2.87|   12.97|                            2.25|    3.76|           15.26|                           11.66|    4.53|    4.9| 11.1|  8.0|             2.3|       3.95|             7.49| 4.77|     4.08|           3.77|    3.87|       6.37| 4.81| 18.64|   3.32|    5.03|              99.0|    86.14| 98.57|         99.0|                                 97.71|94.86|     83.71|    92.57|                            82.86|    98.14|            88.14|      79.71|    98.86|   79.71| 95.14|92.57|            38.57|        73.0|              97.0| 52.29|     96.71|           83.29|    97.71|       82.71|  99.0|  93.14|   85.43|    83.43|\n",
      "|     2019|             2.19|    6.85| 5.35|        2.76|                                  5.0|4.25|     2.88|   12.59|                             2.6|    3.84|           14.83|                           11.26|    4.49|   4.71|11.56| 7.28|            2.33|       4.17|             8.17| 5.64|      4.4|           4.32|    3.79|       6.03| 4.75| 22.41|   3.31|    4.97|             98.67|    89.14| 98.57|        98.57|                                 97.43|96.86|     86.71|    95.71|                            78.86|    98.14|            86.71|      80.29|    98.29|   79.29| 97.14| 99.0|             37.0|       71.14|             97.14| 81.57|     96.14|           86.29|    97.71|       87.14|  99.0|  95.43|   89.29|    90.43|\n",
      "|     2020|             2.39|    7.11| 5.59|        3.65|                                  5.0|4.77|     3.42|   16.99|                            2.06|    4.08|           12.59|                           10.85|    4.67|   4.62|12.68| 8.97|             2.3|       5.16|             8.35| 6.19|     5.71|            4.8|    4.36|       9.96| 5.33| 18.86|   3.99|     4.3|             96.43|    88.71| 98.43|        92.43|                                 94.14|98.57|     78.43|    91.43|                            78.57|    98.14|             89.0|      82.57|    97.29|   77.14| 97.14|98.14|            41.43|       68.14|             97.29|  89.0|     96.43|           87.29|    97.71|       83.43|  99.0|  95.43|   75.71|    91.14|\n",
      "+---------+-----------------+--------+-----+------------+-------------------------------------+----+---------+--------+--------------------------------+--------+----------------+--------------------------------+--------+-------+-----+-----+----------------+-----------+-----------------+-----+---------+---------------+--------+-----------+-----+------+-------+--------+------------------+---------+------+-------------+--------------------------------------+-----+----------+---------+---------------------------------+---------+-----------------+-----------+---------+--------+------+-----+-----------------+------------+------------------+------+----------+----------------+---------+------------+------+-------+--------+---------+\n",
      "only showing top 20 rows\n",
      "\n"
     ]
    }
   ],
   "source": [
    "df_vac = df_vac.select([col(c).alias(c + \"1\") for c in df_vac.columns])\n",
    "final_df = df_exp.join(df_vac, df_exp.Countries == df_vac.Countries1, \"outer\").drop(\"Countries1\")\n",
    "final_df.show()"
   ]
  },
  {
   "cell_type": "markdown",
   "id": "b17d1d54",
   "metadata": {},
   "source": [
    "# 4.1 - Data reduction"
   ]
  },
  {
   "cell_type": "code",
   "execution_count": 17,
   "id": "d7459cc0",
   "metadata": {},
   "outputs": [
    {
     "name": "stdout",
     "output_type": "stream",
     "text": [
      "+---------+----+--------+---------+-----+-----+-----+---------+----------+------+------+\n",
      "|Countries| Lao|Thailand|Indonesia|Samoa|China| Lao1|Thailand1|Indonesia1|Samoa1|China1|\n",
      "+---------+----+--------+---------+-----+-----+-----+---------+----------+------+------+\n",
      "|     2001|4.29|    3.03|     2.12| 3.82| 4.25| 55.2|     96.5|      75.5| 92.14| 83.67|\n",
      "|     2002| 3.7|    3.33|     1.98| 4.49| 4.38| 58.4|     96.5|      75.0| 93.86|  84.5|\n",
      "|     2003|4.48|    3.24|     2.25| 4.17| 4.42| 55.0|    97.67|      76.0| 83.71|  85.5|\n",
      "|     2004|3.54|    3.14|     2.12| 4.53| 4.29|49.67|    97.67|      76.5| 59.14| 85.14|\n",
      "|     2005|3.34|    3.16|     2.53| 4.63| 4.18|53.67|    97.67|     77.33| 65.43| 87.29|\n",
      "|     2006|2.93|     3.1|     2.62| 4.88| 3.95|57.83|    97.67|     78.17| 60.14| 92.86|\n",
      "|     2007|3.15|    3.19|     2.82| 4.74| 3.67|50.17|    97.67|     78.33| 72.86| 93.14|\n",
      "|     2008|2.77|    3.46|     2.55| 4.53|  3.9| 62.5|    98.67|      81.0|  56.0| 96.43|\n",
      "|     2009|3.46|    3.62|     2.62| 5.13| 4.35|67.17|    98.67|     80.83| 66.86| 98.14|\n",
      "|     2010|2.91|    3.39|     2.79| 5.15| 4.23| 73.5|    98.67|      83.5| 76.57|  98.0|\n",
      "|     2011|1.94|    3.57|     2.99| 5.38| 4.34|76.17|    98.67|     84.83| 81.14| 98.43|\n",
      "|     2012|2.08|    3.52|     2.91| 4.99| 4.57| 78.0|    98.67|     86.67| 83.29| 98.57|\n",
      "|     2013| 2.4|    3.45|     2.87| 6.21| 4.71|82.83|     99.0|     91.67| 85.29|  99.0|\n",
      "|     2014| 2.3|    3.68|     2.96| 6.25| 4.78| 84.5|     99.0|     89.17|  81.0| 98.29|\n",
      "|     2015|2.45|    3.85|     2.92| 6.21| 4.94| 84.5|     99.0|     86.67| 79.29| 98.57|\n",
      "|     2016|2.36|    3.94|     3.02| 5.63| 4.98| 84.5|     99.0|     86.83| 77.86| 98.57|\n",
      "|     2017|2.53|    3.85|      2.9| 5.16| 5.07|82.14|     99.0|     80.43| 73.43| 98.57|\n",
      "|     2018|2.25|    3.87|     2.87| 4.77| 5.17|82.86|    97.71|     83.71| 52.29| 98.57|\n",
      "|     2019| 2.6|    3.79|     2.88| 5.64| 5.35|78.86|    97.71|     86.71| 81.57| 98.57|\n",
      "|     2020|2.06|    4.36|     3.42| 6.19| 5.59|78.57|    97.71|     78.43|  89.0| 98.43|\n",
      "+---------+----+--------+---------+-----+-----+-----+---------+----------+------+------+\n",
      "only showing top 20 rows\n",
      "\n"
     ]
    }
   ],
   "source": [
    "# Rename the longest country name in dataframe.\n",
    "final_df = final_df.withColumnRenamed(\"Lao People's Democratic Republic\", \"Lao\")\n",
    "final_df = final_df.withColumnRenamed(\"Lao People's Democratic Republic1\", \"Lao1\")\n",
    "\n",
    "# After feature selection, top5 country in the dataset.\n",
    "countries = [\"Lao\", \"Thailand\", \"Indonesia\", \"Samoa\", \"China\"]\n",
    "\n",
    "# Screening of data from these countries\n",
    "filtered_df = final_df.filter(final_df.Countries.isin(countries))\n",
    "\n",
    "# List the required columns, including those with a \"1\" after the country name.\n",
    "columns_to_select = [\"Countries\"] + countries + [f\"{country}1\" for country in countries]\n",
    "\n",
    "# Select these columns\n",
    "selected_df = final_df.select(columns_to_select)\n",
    "\n",
    "selected_df.show()\n"
   ]
  },
  {
   "cell_type": "markdown",
   "id": "218bcedf",
   "metadata": {},
   "source": [
    "# 4.2 - The data projection"
   ]
  },
  {
   "cell_type": "code",
   "execution_count": 18,
   "id": "be3fa116",
   "metadata": {},
   "outputs": [
    {
     "name": "stdout",
     "output_type": "stream",
     "text": [
      "+------------------+-----------------+------------------+-------------------+-------------------+------------------+------------------+------------------+------------------+------------------+\n",
      "|           std_Lao|          var_Lao|      std_Thailand|       var_Thailand|      std_Indonesia|     var_Indonesia|          st_Samoa|         var_Samoa|         std_China|         var_China|\n",
      "+------------------+-----------------+------------------+-------------------+-------------------+------------------+------------------+------------------+------------------+------------------+\n",
      "|0.7115509631297501|0.506304773130875|0.4904754475467211|0.24056616464615638|0.41429001877362687|0.1716362196554521|0.7854083205945455|0.6168662300591443|0.5254485817225464|0.2760962120342355|\n",
      "+------------------+-----------------+------------------+-------------------+-------------------+------------------+------------------+------------------+------------------+------------------+\n",
      "\n"
     ]
    }
   ],
   "source": [
    "statistics_df = selected_df.agg(\n",
    "    stddev(\"Lao\").alias(\"std_Lao\"),\n",
    "    variance(\"Lao\").alias(\"var_Lao\"),\n",
    "    stddev(\"Thailand\").alias(\"std_Thailand\"),\n",
    "    variance(\"Thailand\").alias(\"var_Thailand\"),\n",
    "    stddev(\"Indonesia\").alias(\"std_Indonesia\"),\n",
    "    variance(\"Indonesia\").alias(\"var_Indonesia\"),\n",
    "    stddev(\"Samoa\").alias(\"st_Samoa\"),\n",
    "    variance(\"Samoa\").alias(\"var_Samoa\"),\n",
    "    stddev(\"China\").alias(\"std_China\"),\n",
    "    variance(\"China\").alias(\"var_China\"),\n",
    ")\n",
    "\n",
    "statistics_df.show()"
   ]
  },
  {
   "cell_type": "markdown",
   "id": "e7b4c305",
   "metadata": {},
   "source": [
    "# 6.3 Model(s) must be selected/built, and the appropriate algorithm/model parameter(s) must be selected."
   ]
  },
  {
   "cell_type": "code",
   "execution_count": 19,
   "id": "546f5510",
   "metadata": {},
   "outputs": [],
   "source": [
    "# Must be included at the beginning of each new notebook. Remember to change the app name.\n",
    "import findspark\n",
    "findspark.init('/home/ubuntu/spark-3.2.1-bin-hadoop2.7')\n",
    "import pyspark\n",
    "from pyspark.sql import SparkSession\n",
    "spark = SparkSession.builder.appName('linear_regression_docs').getOrCreate()\n",
    "\n",
    "# If you're getting an error with numpy, please type 'sudo pip install numpy --user' into the EC2 console.\n",
    "from pyspark.ml.regression import LinearRegression\n",
    "from pyspark.ml.feature import VectorAssembler\n",
    "from pyspark.ml.evaluation import RegressionEvaluator"
   ]
  },
  {
   "cell_type": "code",
   "execution_count": 20,
   "id": "7852a139",
   "metadata": {},
   "outputs": [
    {
     "name": "stdout",
     "output_type": "stream",
     "text": [
      "+------+-----+\n",
      "|China1|China|\n",
      "+------+-----+\n",
      "| 83.67| 4.25|\n",
      "|  84.5| 4.38|\n",
      "|  85.5| 4.42|\n",
      "| 85.14| 4.29|\n",
      "| 87.29| 4.18|\n",
      "| 92.86| 3.95|\n",
      "| 93.14| 3.67|\n",
      "| 96.43|  3.9|\n",
      "| 98.14| 4.35|\n",
      "|  98.0| 4.23|\n",
      "| 98.43| 4.34|\n",
      "| 98.57| 4.57|\n",
      "|  99.0| 4.71|\n",
      "| 98.29| 4.78|\n",
      "| 98.57| 4.94|\n",
      "| 98.57| 4.98|\n",
      "| 98.57| 5.07|\n",
      "| 98.57| 5.17|\n",
      "| 98.57| 5.35|\n",
      "| 98.43| 5.59|\n",
      "+------+-----+\n",
      "only showing top 20 rows\n",
      "\n"
     ]
    }
   ],
   "source": [
    "china_df = final_df.select(col('China1'),col('China'))\n",
    "china_df.show()"
   ]
  },
  {
   "cell_type": "markdown",
   "id": "761dd4a0",
   "metadata": {},
   "source": [
    "# 7.1 Creating Logical Tests."
   ]
  },
  {
   "cell_type": "code",
   "execution_count": 21,
   "id": "77ac3719",
   "metadata": {},
   "outputs": [
    {
     "name": "stdout",
     "output_type": "stream",
     "text": [
      "+-------+-----------------+------------------+\n",
      "|summary|           China1|             China|\n",
      "+-------+-----------------+------------------+\n",
      "|  count|               17|                17|\n",
      "|   mean|94.91352933995864| 4.628823574851541|\n",
      "| stddev|5.748310649724027|0.5180478215876732|\n",
      "|    min|            83.67|               3.9|\n",
      "|    max|             99.0|              5.59|\n",
      "+-------+-----------------+------------------+\n",
      "\n",
      "+-------+-----------------+------------------+\n",
      "|summary|           China1|             China|\n",
      "+-------+-----------------+------------------+\n",
      "|  count|                4|                 4|\n",
      "|   mean|93.78499984741211| 4.452500104904175|\n",
      "| stddev| 6.28074615176421|0.6129913654704685|\n",
      "|    min|            85.14|              3.67|\n",
      "|    max|            98.57|              5.07|\n",
      "+-------+-----------------+------------------+\n",
      "\n"
     ]
    }
   ],
   "source": [
    "train_data,test_data = china_df.randomSplit([0.7,0.3])\n",
    "# Let's see our training data.\n",
    "train_data.describe().show()\n",
    "\n",
    "# And our testing data.\n",
    "test_data.describe().show()"
   ]
  },
  {
   "cell_type": "markdown",
   "id": "13fc2c92",
   "metadata": {},
   "source": [
    "# 7.2  Conduct data mining"
   ]
  },
  {
   "cell_type": "code",
   "execution_count": 22,
   "id": "02f3583c",
   "metadata": {},
   "outputs": [],
   "source": [
    "vector_assembler = VectorAssembler(inputCols=['China'], outputCol='features')\n",
    "\n",
    "# Transform the training and testing data\n",
    "train_data = vector_assembler.transform(train_data).select('features', 'China1')\n",
    "test_data = vector_assembler.transform(test_data).select('features', 'China1')"
   ]
  },
  {
   "cell_type": "code",
   "execution_count": 23,
   "id": "ab15ba32",
   "metadata": {},
   "outputs": [
    {
     "name": "stderr",
     "output_type": "stream",
     "text": [
      "24/05/23 09:31:14 WARN Instrumentation: [370ff7b8] regParam is zero, which might cause numerical instability and overfitting.\n",
      "24/05/23 09:31:14 WARN InstanceBuilder$NativeBLAS: Failed to load implementation from:dev.ludovic.netlib.blas.JNIBLAS\n",
      "24/05/23 09:31:14 WARN InstanceBuilder$NativeBLAS: Failed to load implementation from:dev.ludovic.netlib.blas.ForeignLinkerBLAS\n",
      "24/05/23 09:31:14 WARN InstanceBuilder$NativeLAPACK: Failed to load implementation from:dev.ludovic.netlib.lapack.JNILAPACK\n"
     ]
    },
    {
     "name": "stdout",
     "output_type": "stream",
     "text": [
      "Coefficients: [5.2529562611162035] Intercept: 70.59852156083997\n"
     ]
    }
   ],
   "source": [
    "# Initialize the linear regression model\n",
    "lr = LinearRegression(featuresCol='features', labelCol='China1')\n",
    "\n",
    "# Fit the model on the training data\n",
    "lr_model = lr.fit(train_data)\n",
    "\n",
    "print(\"Coefficients: {} Intercept: {}\".format(lr_model.coefficients,lr_model.intercept))"
   ]
  },
  {
   "cell_type": "code",
   "execution_count": 24,
   "id": "b8f920a8",
   "metadata": {},
   "outputs": [],
   "source": [
    "test_results = lr_model.evaluate(test_data)"
   ]
  },
  {
   "cell_type": "code",
   "execution_count": 25,
   "id": "4e2149f6",
   "metadata": {},
   "outputs": [
    {
     "name": "stderr",
     "output_type": "stream",
     "text": [
      "/home/ubuntu/spark-3.2.1-bin-hadoop2.7/python/pyspark/sql/context.py:125: FutureWarning: Deprecated in 3.0.0. Use SparkSession.builder.getOrCreate() instead.\n",
      "  warnings.warn(\n"
     ]
    },
    {
     "name": "stdout",
     "output_type": "stream",
     "text": [
      "+------------------+\n",
      "|         residuals|\n",
      "+------------------+\n",
      "|-7.993704330995669|\n",
      "|  3.26312794974325|\n",
      "|2.5823473244378334|\n",
      "|1.3389889883953856|\n",
      "+------------------+\n",
      "\n",
      "RSME: 4.555456128722179\n"
     ]
    }
   ],
   "source": [
    "test_results.residuals.show()\n",
    "print(\"RSME: {}\".format(test_results.rootMeanSquaredError))"
   ]
  },
  {
   "cell_type": "code",
   "execution_count": 26,
   "id": "5854d766",
   "metadata": {},
   "outputs": [
    {
     "name": "stdout",
     "output_type": "stream",
     "text": [
      "R2: 0.2985770172790637\n"
     ]
    }
   ],
   "source": [
    "print(\"R2: {}\".format(test_results.r2))"
   ]
  },
  {
   "cell_type": "markdown",
   "id": "7b0d3277",
   "metadata": {},
   "source": [
    "# 8.2 Visualize the data, results, models, and patterns# "
   ]
  },
  {
   "cell_type": "code",
   "execution_count": 54,
   "id": "9e58c697",
   "metadata": {},
   "outputs": [
    {
     "data": {
      "image/png": "[encoded data removed]",
      "text/plain": [
       "<Figure size 720x432 with 1 Axes>"
      ]
     },
     "metadata": {
      "needs_background": "light"
     },
     "output_type": "display_data"
    }
   ],
   "source": [
    "import matplotlib.pyplot as plt\n",
    "import seaborn as sns\n",
    "from pyspark.ml.evaluation import RegressionEvaluator\n",
    "\n",
    "# Convert the predictions to a Pandas DataFrame\n",
    "train_predictions_pd = train_predictions.select('features', 'China1', 'prediction').toPandas()\n",
    "\n",
    "# Extract the feature values from the vector\n",
    "train_predictions_pd['Public Health Expenditures (China1)'] = train_predictions_pd['features'].apply(lambda x: x[0])\n",
    "\n",
    "# Rename columns\n",
    "train_predictions_pd.rename(columns={'China1': 'Vaccine Coverage (China)', 'prediction': 'Predicted_Vaccine_Coverage'}, inplace=True)\n",
    "\n",
    "# Create the scatter plot\n",
    "plt.figure(figsize=(10, 6))\n",
    "\n",
    "# Plot the actual values\n",
    "sns.scatterplot(x='Public Health Expenditures (China1)', y='Vaccine Coverage (China)', data=train_predictions_pd, color='blue', label='Actual values')\n",
    "\n",
    "# Plot the predicted values\n",
    "sns.scatterplot(x='Public Health Expenditures (China1)', y='Predicted_Vaccine_Coverage', data=train_predictions_pd, color='orange', label='Predicted values')\n",
    "\n",
    "# Plot the regression line for actual values\n",
    "sns.regplot(x='Public Health Expenditures (China1)', y='Vaccine Coverage (China)', data=train_predictions_pd, scatter=False, color='blue', label='Actual Regression Line')\n",
    "\n",
    "# Plot the regression line for predicted values\n",
    "sns.regplot(x='Public Health Expenditures (China1)', y='Predicted_Vaccine_Coverage', data=train_predictions_pd, scatter=False, color='red', label='Predicted Regression Line')\n",
    "\n",
    "# Add labels and title\n",
    "plt.xlabel('Public Health Expenditures (China1)')\n",
    "plt.ylabel('Vaccine Coverage (China)')\n",
    "plt.title('Actual vs Predicted Values with Regression Lines')\n",
    "plt.legend()\n",
    "\n",
    "# Show the plot\n",
    "plt.show()\n",
    "\n"
   ]
  },
  {
   "cell_type": "code",
   "execution_count": 51,
   "id": "cb8ef5d7",
   "metadata": {},
   "outputs": [
    {
     "name": "stdout",
     "output_type": "stream",
     "text": [
      "+-------------------+------+-----------------+\n",
      "|           features|China1|       prediction|\n",
      "+-------------------+------+-----------------+\n",
      "|             [4.25]| 83.67|92.92358567058383|\n",
      "|[4.380000114440918]|  84.5|93.60647058568208|\n",
      "|[4.420000076293945]|  85.5|93.81658863574235|\n",
      "|[4.179999828338623]| 87.29|  92.555877830576|\n",
      "|[3.950000047683716]| 92.86|91.34769904272945|\n",
      "+-------------------+------+-----------------+\n",
      "only showing top 5 rows\n",
      "\n"
     ]
    }
   ],
   "source": [
    "# Inspect the columns in train_predictions\n",
    "train_predictions.show(5)\n"
   ]
  },
  {
   "cell_type": "code",
   "execution_count": 61,
   "id": "75177666",
   "metadata": {
    "scrolled": true
   },
   "outputs": [
    {
     "data": {
      "image/png": "[encoded data removed]",
      "text/plain": [
       "<Figure size 720x432 with 1 Axes>"
      ]
     },
     "metadata": {
      "needs_background": "light"
     },
     "output_type": "display_data"
    }
   ],
   "source": [
    "# Convert the test predictions to a Pandas DataFrame\n",
    "test_predictions_pd = test_predictions.select('features', 'China1', 'prediction').toPandas()\n",
    "\n",
    "# Extract the feature values from the vector\n",
    "test_predictions_pd['Public Health Expenditures (China1)'] = test_predictions_pd['features'].apply(lambda x: x[0])\n",
    "\n",
    "# Compute residuals for test data\n",
    "test_predictions_pd['residuals'] = test_predictions_pd['China1'] - test_predictions_pd['prediction']\n",
    "\n",
    "# Plot the distribution of residuals for test data\n",
    "plt.figure(figsize=(10, 6))\n",
    "sns.histplot(test_predictions_pd['residuals'], kde=True, color='blue', label='Test Residuals')\n",
    "plt.xlabel('Residuals')\n",
    "plt.ylabel('Frequency')\n",
    "plt.title('Distribution of Test Residuals')\n",
    "plt.legend()\n",
    "plt.show()"
   ]
  },
  {
   "cell_type": "markdown",
   "id": "d20d4493",
   "metadata": {},
   "source": [
    "# 8.4  Assess and evaluate results, models, and patterns"
   ]
  },
  {
   "cell_type": "code",
   "execution_count": 63,
   "id": "761160f1",
   "metadata": {},
   "outputs": [
    {
     "name": "stdout",
     "output_type": "stream",
     "text": [
      "RSME: 4.555456128722179\n",
      "R2: 0.2985770172790637\n"
     ]
    }
   ],
   "source": [
    "print(\"RSME: {}\".format(test_results.rootMeanSquaredError))\n",
    "print(\"R2: {}\".format(test_results.r2))"
   ]
  },
  {
   "cell_type": "markdown",
   "id": "4d578a0e",
   "metadata": {},
   "source": [
    "# 8.5 Multiple iterations must take place"
   ]
  },
  {
   "cell_type": "code",
   "execution_count": 71,
   "id": "fbcf4c0f",
   "metadata": {},
   "outputs": [
    {
     "name": "stdout",
     "output_type": "stream",
     "text": [
      "+-------------+----+----+----+----+----+----+----+----+----+----+----+----+----+----+----+----+----+----+----+----+----+----+\n",
      "|      Country|2021|2020|2019|2018|2017|2016|2015|2014|2013|2012|2011|2010|2009|2008|2007|2006|2005|2004|2003|2002|2001|2000|\n",
      "+-------------+----+----+----+----+----+----+----+----+----+----+----+----+----+----+----+----+----+----+----+----+----+----+\n",
      "|         ROSA|null|null|88.0|84.0|87.0|86.0|89.0|84.0|78.0|76.0|74.0|72.0|78.0|71.0|68.0|64.0|66.0|60.0|60.0|57.0|51.0|44.0|\n",
      "|         ECAR|null|null|99.0|99.0|98.0|99.0|99.0|99.0|99.0|99.0|99.0|99.0|96.0|97.0|99.0|97.0|99.0|98.0|97.0|98.0|97.0|95.0|\n",
      "|         MENA|null|null|98.0|98.0|99.0|99.0|99.0|99.0|99.0|99.0|99.0|99.0|99.0|99.0|99.0|99.0|99.0|99.0|99.0|98.0|98.0|98.0|\n",
      "|         ESAR|null|null|60.0|56.0|58.0|69.0|72.0|69.0|40.0|64.0|72.0|71.0|73.0|74.0|79.0|70.0|73.0|75.0|54.0|51.0|63.0|54.0|\n",
      "|         LACR|null|null|79.0|80.0|75.0|85.0|93.0|95.0|92.0|96.0|99.0|99.0|99.0|99.0|99.0|99.0|99.0|99.0|99.0|99.0|99.0|99.0|\n",
      "|         ECAR|null|null|98.0|98.0|99.0|99.0|99.0|99.0|99.0|99.0|99.0|99.0|96.0|96.0|95.0|99.0|98.0|94.0|91.0|94.0|96.0|92.0|\n",
      "|Non-programme|null|null|null|null|null|null|null|null|null|null|null|null|null|null|null|null|null|null|null|null|null|null|\n",
      "|         ECAR|null|null|96.0|95.0|94.0|96.0|97.0|97.0|98.0|98.0|98.0|98.0|98.0|99.0|98.0|95.0|92.0|88.0|86.0|82.0|82.0|83.0|\n",
      "|         ROSA|null|null|99.0|99.0|99.0|99.0|99.0|99.0|99.0|99.0|99.0|99.0|98.0|99.0|98.0|99.0|99.0|98.0|97.0|97.0|96.0|93.0|\n",
      "|         ECAR|null|null|98.0|98.0|97.0|97.0|98.0|98.0|98.0|97.0|98.0|99.0|98.0|99.0|99.0|98.0|98.0|98.0|99.0|99.0|99.0|99.0|\n",
      "|         LACR|null|null|92.0|84.0|76.0|95.0|99.0|90.0|94.0|98.0|98.0|99.0|98.0|98.0|98.0|99.0|98.0|99.0|97.0|96.0|99.0|99.0|\n",
      "|         WCAR|null|null|88.0|88.0|88.0|88.0|88.0|88.0|88.0|96.0|96.0|95.0|96.0|88.0|90.0|93.0|96.0|97.0|93.0|88.0|89.0|90.0|\n",
      "|         ROSA|null|null|99.0|99.0|98.0|92.0|99.0|99.0|99.0|99.0|99.0|97.0|95.0|95.0|96.0|94.0|99.0|94.0|92.0|92.0|92.0|93.0|\n",
      "|         LACR|null|null|76.0|78.0|82.0|80.0|90.0|93.0|96.0|99.0|94.0|94.0|99.0|99.0|98.0|93.0|90.0|87.0|87.0|88.0|86.0|96.0|\n",
      "|         ECAR|null|null|96.0|94.0|96.0|96.0|95.0|97.0|97.0|95.0|98.0|97.0|96.0|94.0|96.0|97.0|96.0|98.0|97.0|95.0|95.0|94.0|\n",
      "|         ESAR|null|null|98.0|98.0|98.0|98.0|98.0|98.0|98.0|98.0|98.0|98.0|98.0|98.0|98.0|99.0|99.0|99.0|99.0|99.0|99.0|99.0|\n",
      "|         LACR|null|null|88.0|69.0|73.0|85.0|98.0|94.0|96.0|99.0|99.0|99.0|99.0|99.0|99.0|99.0|99.0|99.0|99.0|99.0|99.0|99.0|\n",
      "|         EAPR|null|null|99.0|99.0|99.0|99.0|99.0|99.0|99.0|99.0|99.0|99.0|99.0|96.0|95.0|99.0|99.0|96.0|99.0|94.0|99.0|95.0|\n",
      "|         ECAR|null|null|96.0|97.0|97.0|96.0|96.0|96.0|96.0|96.0|97.0|97.0|97.0|98.0|98.0|98.0|98.0|98.0|98.0|98.0|98.0|98.0|\n",
      "|         WCAR|null|null|98.0|98.0|98.0|98.0|98.0|98.0|98.0|98.0|98.0|96.0|96.0|99.0|99.0|99.0|99.0|99.0|99.0|99.0|99.0|83.0|\n",
      "+-------------+----+----+----+----+----+----+----+----+----+----+----+----+----+----+----+----+----+----+----+----+----+----+\n",
      "only showing top 20 rows\n",
      "\n"
     ]
    },
    {
     "name": "stderr",
     "output_type": "stream",
     "text": [
      "24/05/23 12:11:54 WARN CSVHeaderChecker: Number of column in CSV header is not equal to number of fields in the schema:\n",
      " Header length: 46, schema size: 23\n",
      "CSV file: file:///home/ubuntu/aws-instance/Datasets/i4/raw_vac.csv\n"
     ]
    }
   ],
   "source": [
    "## Step 2-3\n",
    "\n",
    "#Read two raw files.\n",
    "df_vac = spark.read.csv('raw_vac.csv', header=True, schema=schema)\n",
    "df_vac.show()\n",
    "\n",
    "df_exp = spark.read.csv('raw_exp.csv', header=True, schema=schema)\n",
    "df_exp.show()\n",
    "\n"
   ]
  },
  {
   "cell_type": "code",
   "execution_count": null,
   "id": "77d0b335",
   "metadata": {},
   "outputs": [],
   "source": []
  }
 ],
 "metadata": {
  "kernelspec": {
   "display_name": "Python 3 (ipykernel)",
   "language": "python",
   "name": "python3"
  },
  "language_info": {
   "codemirror_mode": {
    "name": "ipython",
    "version": 3
   },
   "file_extension": ".py",
   "mimetype": "text/x-python",
   "name": "python",
   "nbconvert_exporter": "python",
   "pygments_lexer": "ipython3",
   "version": "3.10.12"
  }
 },
 "nbformat": 4,
 "nbformat_minor": 5
}
